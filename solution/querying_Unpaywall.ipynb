{
 "cells": [
  {
   "cell_type": "markdown",
   "metadata": {},
   "source": [
    "## Querying Unpaywall\n",
    "\n",
    "\n",
    "### Step 1: load packages\n",
    "\n",
    "* **jsonlite** for working with JSON\n",
    "\n",
    "If necessary, install the packages before loading them."
   ]
  },
  {
   "cell_type": "code",
   "execution_count": 3,
   "metadata": {},
   "outputs": [],
   "source": [
    "#install.packages(\"jsonlite\")\n",
    "library(jsonlite)"
   ]
  },
  {
   "cell_type": "markdown",
   "metadata": {},
   "source": [
    "### Step 2: loading crossref metadata\n",
    "\n",
    "First, we import the crossref metadata. We use the function *read.csv*, specify that the colum *X* should be interpreted as row names, and store the result in the object *DF_crossref*."
   ]
  },
  {
   "cell_type": "code",
   "execution_count": 1,
   "metadata": {},
   "outputs": [],
   "source": [
    "# import the data\n",
    "DF_crossref <- read.csv(\"../data/crossref_metadata.csv\", row.names = \"X\")"
   ]
  },
  {
   "cell_type": "markdown",
   "metadata": {},
   "source": [
    "### Step 3: build query URLs\n",
    "\n",
    "Unpaywall offers an API endpoint that returns metadata and information on Open Access for a given DOI (see [here](https://unpaywall.org/products/api)). We can build the query URLs by concatenating the base URL, the DOI column in *DF_crossref*, and your email adress (required)."
   ]
  },
  {
   "cell_type": "code",
   "execution_count": 2,
   "metadata": {},
   "outputs": [],
   "source": [
    "# build the query URLs by concatenating the base URL, DOIs, and your email adress (change the value below accordingly)\n",
    "URLs <- paste0(\"https://api.unpaywall.org/v2/\", DF_crossref$DOIs, \"?email=jdoe@example.org\")"
   ]
  },
  {
   "cell_type": "markdown",
   "metadata": {},
   "source": [
    "### Step 4: exploring the results\n",
    "\n",
    "Unpaywall aggregates information from several sources, and processes the results to generate information on various aspects of Open Access. The [Unpaywall Data Format](https://unpaywall.org/data-format) describes all properties the service makes available.\n",
    "\n",
    "Here, we are interested in:\n",
    "* *is_oa* (A boolean indicating whether there is an OA copy of this resource.)\n",
    "* *oa_status* (The OA type of this resource: gold, hybrid, bronze, green or closed. See [here](https://support.unpaywall.org/support/solutions/articles/44001777288-what-do-the-types-of-oa-status-green-gold-hybrid-and-bronze-mean-) how Unpaywall assigns OA status.)\n",
    "\n",
    "Unpaywall also returns results in JSON, so we can follow a similar approach to crossref. Below, we retrieve and parste results for the first query URL using *fromJSON*. We can then access the *is_oa* and *oa_status* properties by subsetting."
   ]
  },
  {
   "cell_type": "code",
   "execution_count": 4,
   "metadata": {},
   "outputs": [
    {
     "data": {
      "text/html": [
       "TRUE"
      ],
      "text/latex": [
       "TRUE"
      ],
      "text/markdown": [
       "TRUE"
      ],
      "text/plain": [
       "[1] TRUE"
      ]
     },
     "metadata": {},
     "output_type": "display_data"
    },
    {
     "data": {
      "text/html": [
       "'green'"
      ],
      "text/latex": [
       "'green'"
      ],
      "text/markdown": [
       "'green'"
      ],
      "text/plain": [
       "[1] \"green\""
      ]
     },
     "metadata": {},
     "output_type": "display_data"
    }
   ],
   "source": [
    "# retrieve and parse results for the first query URL\n",
    "results <- fromJSON(URLs[1])\n",
    "\n",
    "# is_oa of the first item\n",
    "results$is_oa\n",
    "# oa_status of the first item\n",
    "results$oa_status"
   ]
  },
  {
   "cell_type": "markdown",
   "metadata": {},
   "source": [
    "### Step 5: retrieving Open Access information from Unpaywall\n",
    "\n",
    "**To reduce the load on the Unpaywall API, we will not execute this step in the workshop - I will provide you with the data necessary to proceed. Instead of using the API, you might also use the [database dumps](https://unpaywall.org/products/snapshot) Unpaywall provides regularly.**\n",
    "\n",
    "To retrieve the data for all items, we first create an empty data frame with three columns (DOIs, is_oa and oa_status) for storing the results.\n",
    "\n",
    "We then initiate a for loop that will iterate through the numbers from 1 to the number of items in the data frame *DF_crossref*. These numbers, below represented by *i*, express which item in *DF_crossref* is currently being processed. This information is used to successively subset the list of URLs. Each URL is passed to *fromJSON*. Then, for each item *is_oa* and *oa_status* are extracted and stored in column 2 and 3 of *DF_Unpaywall*. The row is specified by *i*, so the rows in *DF_crossref* and *DF_Unpaywall* end up storing information on the same item in the same rows. The respective DOI is selected from *DOI_crossref* and stored in the 1st column."
   ]
  },
  {
   "cell_type": "code",
   "execution_count": 5,
   "metadata": {},
   "outputs": [],
   "source": [
    "# DO NOT RUN THIS!\n",
    "\n",
    "# initiate empty data frame for storing the results\n",
    "#DF_Unpaywall <- data.frame(matrix(ncol = 3, nrow = 0))\n",
    "#colnames(DF_Unpaywall) <- c(\"DOIs\", \"is_oa\", \"oa_status\")\n",
    "\n",
    "# iterate through the items in DF_crossref and extract is_oa and oa_status\n",
    "#for (i in 1:nrow(DF_crossref)) {\n",
    "#  results <- fromJSON(URLs[i])\n",
    "#  DF_Unpaywall[i,1] <- DF_crossref[i,1]\n",
    "#  DF_Unpaywall[i,2] <- results$is_oa\n",
    "#  DF_Unpaywall[i,3] <- results$oa_status\n",
    "#}"
   ]
  },
  {
   "cell_type": "markdown",
   "metadata": {},
   "source": [
    "### EXERCISE: try the package roadoi\n",
    "\n",
    "*roadoi* is an R package specifically for using the Unpaywall API. Its function *oadoi_fetch* works in a very similar way to what we did above. The function takes two arguments: a vector of dois, and an email adress. It returns a dataframe with information provided by Unpaywall.\n",
    "\n",
    "Below, we first install and load *roadoi*. Then, we retrieve information on the first 10 items from Unpaywall.\n",
    "\n",
    "**Have a look at the columns *is_oa* and *journal_is_oa*.**\n",
    "* Can you imagine what the two variables represen?\n",
    "* Why do the values diverge in some cases, but not in others?"
   ]
  },
  {
   "cell_type": "code",
   "execution_count": 8,
   "metadata": {},
   "outputs": [],
   "source": [
    "#install.packages(\"roadoi\")\n",
    "library(roadoi)"
   ]
  },
  {
   "cell_type": "code",
   "execution_count": 9,
   "metadata": {},
   "outputs": [
    {
     "data": {
      "text/html": [
       "<style>\n",
       ".list-inline {list-style: none; margin:0; padding: 0}\n",
       ".list-inline>li {display: inline-block}\n",
       ".list-inline>li:not(:last-child)::after {content: \"\\00b7\"; padding: 0 .5ex}\n",
       "</style>\n",
       "<ol class=list-inline><li>'doi'</li><li>'best_oa_location'</li><li>'oa_locations'</li><li>'oa_locations_embargoed'</li><li>'data_standard'</li><li>'is_oa'</li><li>'is_paratext'</li><li>'genre'</li><li>'oa_status'</li><li>'has_repository_copy'</li><li>'journal_is_oa'</li><li>'journal_is_in_doaj'</li><li>'journal_issns'</li><li>'journal_issn_l'</li><li>'journal_name'</li><li>'publisher'</li><li>'published_date'</li><li>'year'</li><li>'title'</li><li>'updated_resource'</li><li>'authors'</li></ol>\n"
      ],
      "text/latex": [
       "\\begin{enumerate*}\n",
       "\\item 'doi'\n",
       "\\item 'best\\_oa\\_location'\n",
       "\\item 'oa\\_locations'\n",
       "\\item 'oa\\_locations\\_embargoed'\n",
       "\\item 'data\\_standard'\n",
       "\\item 'is\\_oa'\n",
       "\\item 'is\\_paratext'\n",
       "\\item 'genre'\n",
       "\\item 'oa\\_status'\n",
       "\\item 'has\\_repository\\_copy'\n",
       "\\item 'journal\\_is\\_oa'\n",
       "\\item 'journal\\_is\\_in\\_doaj'\n",
       "\\item 'journal\\_issns'\n",
       "\\item 'journal\\_issn\\_l'\n",
       "\\item 'journal\\_name'\n",
       "\\item 'publisher'\n",
       "\\item 'published\\_date'\n",
       "\\item 'year'\n",
       "\\item 'title'\n",
       "\\item 'updated\\_resource'\n",
       "\\item 'authors'\n",
       "\\end{enumerate*}\n"
      ],
      "text/markdown": [
       "1. 'doi'\n",
       "2. 'best_oa_location'\n",
       "3. 'oa_locations'\n",
       "4. 'oa_locations_embargoed'\n",
       "5. 'data_standard'\n",
       "6. 'is_oa'\n",
       "7. 'is_paratext'\n",
       "8. 'genre'\n",
       "9. 'oa_status'\n",
       "10. 'has_repository_copy'\n",
       "11. 'journal_is_oa'\n",
       "12. 'journal_is_in_doaj'\n",
       "13. 'journal_issns'\n",
       "14. 'journal_issn_l'\n",
       "15. 'journal_name'\n",
       "16. 'publisher'\n",
       "17. 'published_date'\n",
       "18. 'year'\n",
       "19. 'title'\n",
       "20. 'updated_resource'\n",
       "21. 'authors'\n",
       "\n",
       "\n"
      ],
      "text/plain": [
       " [1] \"doi\"                    \"best_oa_location\"       \"oa_locations\"          \n",
       " [4] \"oa_locations_embargoed\" \"data_standard\"          \"is_oa\"                 \n",
       " [7] \"is_paratext\"            \"genre\"                  \"oa_status\"             \n",
       "[10] \"has_repository_copy\"    \"journal_is_oa\"          \"journal_is_in_doaj\"    \n",
       "[13] \"journal_issns\"          \"journal_issn_l\"         \"journal_name\"          \n",
       "[16] \"publisher\"              \"published_date\"         \"year\"                  \n",
       "[19] \"title\"                  \"updated_resource\"       \"authors\"               "
      ]
     },
     "metadata": {},
     "output_type": "display_data"
    },
    {
     "data": {
      "text/html": [
       "<style>\n",
       ".list-inline {list-style: none; margin:0; padding: 0}\n",
       ".list-inline>li {display: inline-block}\n",
       ".list-inline>li:not(:last-child)::after {content: \"\\00b7\"; padding: 0 .5ex}\n",
       "</style>\n",
       "<ol class=list-inline><li>TRUE</li><li>TRUE</li><li>FALSE</li><li>TRUE</li><li>TRUE</li><li>TRUE</li><li>FALSE</li><li>FALSE</li><li>TRUE</li><li>TRUE</li></ol>\n"
      ],
      "text/latex": [
       "\\begin{enumerate*}\n",
       "\\item TRUE\n",
       "\\item TRUE\n",
       "\\item FALSE\n",
       "\\item TRUE\n",
       "\\item TRUE\n",
       "\\item TRUE\n",
       "\\item FALSE\n",
       "\\item FALSE\n",
       "\\item TRUE\n",
       "\\item TRUE\n",
       "\\end{enumerate*}\n"
      ],
      "text/markdown": [
       "1. TRUE\n",
       "2. TRUE\n",
       "3. FALSE\n",
       "4. TRUE\n",
       "5. TRUE\n",
       "6. TRUE\n",
       "7. FALSE\n",
       "8. FALSE\n",
       "9. TRUE\n",
       "10. TRUE\n",
       "\n",
       "\n"
      ],
      "text/plain": [
       " [1]  TRUE  TRUE FALSE  TRUE  TRUE  TRUE FALSE FALSE  TRUE  TRUE"
      ]
     },
     "metadata": {},
     "output_type": "display_data"
    },
    {
     "data": {
      "text/html": [
       "<style>\n",
       ".list-inline {list-style: none; margin:0; padding: 0}\n",
       ".list-inline>li {display: inline-block}\n",
       ".list-inline>li:not(:last-child)::after {content: \"\\00b7\"; padding: 0 .5ex}\n",
       "</style>\n",
       "<ol class=list-inline><li>FALSE</li><li>FALSE</li><li>FALSE</li><li>FALSE</li><li>FALSE</li><li>FALSE</li><li>FALSE</li><li>FALSE</li><li>TRUE</li><li>FALSE</li></ol>\n"
      ],
      "text/latex": [
       "\\begin{enumerate*}\n",
       "\\item FALSE\n",
       "\\item FALSE\n",
       "\\item FALSE\n",
       "\\item FALSE\n",
       "\\item FALSE\n",
       "\\item FALSE\n",
       "\\item FALSE\n",
       "\\item FALSE\n",
       "\\item TRUE\n",
       "\\item FALSE\n",
       "\\end{enumerate*}\n"
      ],
      "text/markdown": [
       "1. FALSE\n",
       "2. FALSE\n",
       "3. FALSE\n",
       "4. FALSE\n",
       "5. FALSE\n",
       "6. FALSE\n",
       "7. FALSE\n",
       "8. FALSE\n",
       "9. TRUE\n",
       "10. FALSE\n",
       "\n",
       "\n"
      ],
      "text/plain": [
       " [1] FALSE FALSE FALSE FALSE FALSE FALSE FALSE FALSE  TRUE FALSE"
      ]
     },
     "metadata": {},
     "output_type": "display_data"
    }
   ],
   "source": [
    "# retrieve information on the first 10 items\n",
    "results <- roadoi::oadoi_fetch(dois = DF_crossref[1:10,2], email = \"jdoe@example.org\")\n",
    "# look at the names of results\n",
    "names(results)\n",
    "\n",
    "# look at is_oa and journal_is_oa\n",
    "results$is_oa\n",
    "results$journal_is_oa"
   ]
  }
 ],
 "metadata": {
  "kernelspec": {
   "display_name": "R",
   "language": "R",
   "name": "ir"
  },
  "language_info": {
   "codemirror_mode": "r",
   "file_extension": ".r",
   "mimetype": "text/x-r-source",
   "name": "R",
   "pygments_lexer": "r",
   "version": "4.0.4"
  }
 },
 "nbformat": 4,
 "nbformat_minor": 4
}
