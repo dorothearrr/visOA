{
 "cells": [
  {
   "cell_type": "markdown",
   "metadata": {},
   "source": [
    "## Querying crossref\n",
    "\n",
    "\n",
    "### Step 1: load packages\n",
    "\n",
    "* **jsonlite** for working with JSON\n",
    "* **purrr** for working with vectors\n",
    "\n",
    "If necessary, install the packages before loading them."
   ]
  },
  {
   "cell_type": "code",
   "execution_count": 1,
   "metadata": {},
   "outputs": [],
   "source": [
    "#install.packages(\"jsonlite\")\n",
    "library(jsonlite)"
   ]
  },
  {
   "cell_type": "markdown",
   "metadata": {},
   "source": [
    "### Step 2: specify the query parameters\n",
    "\n",
    "For our use case, we want to retrieve *DOIs of publications published since 2015 from authors that are afiiliated with a specific organization (Humboldt-Universität zu Berlin)*.\n",
    "\n",
    "The crossref API is well documented (see [here](https://github.com/CrossRef/rest-api-doc)) and offers many functionalities.\n",
    "In the query URL we build, we first specify that we are interested in *works*.\n",
    "\n",
    "Crossref has not yet implemented organisation identifiers in the affiliation information (see the schema definition [here](https://data.crossref.org/schemas/common4.4.2.xsd)). Therefore, we have to rely on searching for name variants in the affiliation field. Here, we pass the term \"humboldt+universit+berlin\"to the query parameter *query.affiliation*. (For demonstration purposes, we use a very simple query. To ensure that all publications from authors affiliated with an organization are found, multiple name variants should be used - see [this example](https://github.com/tuub/oa-eval).)\n",
    "\n",
    "We use the filter *from-pub-date* with the value 2015-01-01 to limit results to publications published sinc 2015.\n",
    "\n",
    "Below, the resulting query is stored in the object *query*."
   ]
  },
  {
   "cell_type": "code",
   "execution_count": 2,
   "metadata": {},
   "outputs": [],
   "source": [
    "query <- \"https://api.crossref.org/works?query.affiliation=humboldt+universit+berlin&filter=from-pub-date:2015-01-01\""
   ]
  },
  {
   "cell_type": "markdown",
   "metadata": {},
   "source": [
    "### Step 3: politely using APIs\n",
    "\n",
    "APIs offer valuable services to many people and organizations. Therefore, it is important to *politely* use APIs and not burden them with too many requests.  Some services regularly make data dumps available, so you might not even have to use the service's API.\n",
    "\n",
    "Some APIs specify polite use in their documentation, including crossref (see [here](https://github.com/CrossRef/rest-api-doc#etiquette)). To comply with the API etiquette, we will append the *mailto* parameter to the query. This allows crossref to contact us in case there are any issues with our query."
   ]
  },
  {
   "cell_type": "code",
   "execution_count": 3,
   "metadata": {},
   "outputs": [],
   "source": [
    "# change this value to your mail adress:\n",
    "mailto <- \"&mailto=jdoe@example.org\""
   ]
  },
  {
   "cell_type": "markdown",
   "metadata": {},
   "source": [
    "### Step 4: exploring the results\n",
    "\n",
    "The crossref API returns results in JSON, a common data format. We concatenate the strings *query* and *mailto* and pass the new URL string to the function *fromJSON*. The function retrieves and converts results from JSON to R objects. We store the converted results in the object *results*.\n",
    "\n",
    "Information in JSON objects is stored similarly to nested lists with names. Therefore, we can access a specific piece of information by subsetting the *results* object using names. Here, we want to access DOIs, publication year and type of publications matching the query. Notice that results are returned in different classes - two character vectors and one data frame.\n",
    "\n",
    "By default, crossref returns 20 items at a time.\n",
    "\n",
    "You can find out how many items match your query by setting the number of rows to zero (*rows=0*) - in this case, we have more than 51,000 matches!"
   ]
  },
  {
   "cell_type": "code",
   "execution_count": 4,
   "metadata": {},
   "outputs": [
    {
     "data": {
      "text/html": [
       "<style>\n",
       ".list-inline {list-style: none; margin:0; padding: 0}\n",
       ".list-inline>li {display: inline-block}\n",
       ".list-inline>li:not(:last-child)::after {content: \"\\00b7\"; padding: 0 .5ex}\n",
       "</style>\n",
       "<ol class=list-inline><li>'10.21203/rs.3.rs-38496/v1'</li><li>'10.3892/or.2019.7247'</li><li>'10.1145/2983323.2983807'</li><li>'10.21203/rs.3.rs-716282/v1'</li><li>'10.21203/rs.3.rs-128597/v1'</li><li>'10.21203/rs.3.rs-366917/v1'</li><li>'10.1145/2882903.2903736'</li><li>'10.1145/3364452.33644558'</li><li>'10.7238/a.v0i22.3214'</li><li>'10.1080/03075079.2020.1739014'</li><li>'10.1111/sms.13979'</li><li>'10.1080/13504851.2019.1610703'</li><li>'10.1080/17565529.2019.1596063'</li><li>'10.1145/3149485.3149492'</li><li>'10.2200/s01041ed1v01y202008mop005'</li><li>'10.1075/ijlcr.3.2.02bel'</li><li>'10.1093/nar/gky710'</li><li>'10.1002/cne.25073'</li><li>'10.2109/jcersj2.16126'</li><li>'10.1039/c6ra10501g'</li></ol>\n"
      ],
      "text/latex": [
       "\\begin{enumerate*}\n",
       "\\item '10.21203/rs.3.rs-38496/v1'\n",
       "\\item '10.3892/or.2019.7247'\n",
       "\\item '10.1145/2983323.2983807'\n",
       "\\item '10.21203/rs.3.rs-716282/v1'\n",
       "\\item '10.21203/rs.3.rs-128597/v1'\n",
       "\\item '10.21203/rs.3.rs-366917/v1'\n",
       "\\item '10.1145/2882903.2903736'\n",
       "\\item '10.1145/3364452.33644558'\n",
       "\\item '10.7238/a.v0i22.3214'\n",
       "\\item '10.1080/03075079.2020.1739014'\n",
       "\\item '10.1111/sms.13979'\n",
       "\\item '10.1080/13504851.2019.1610703'\n",
       "\\item '10.1080/17565529.2019.1596063'\n",
       "\\item '10.1145/3149485.3149492'\n",
       "\\item '10.2200/s01041ed1v01y202008mop005'\n",
       "\\item '10.1075/ijlcr.3.2.02bel'\n",
       "\\item '10.1093/nar/gky710'\n",
       "\\item '10.1002/cne.25073'\n",
       "\\item '10.2109/jcersj2.16126'\n",
       "\\item '10.1039/c6ra10501g'\n",
       "\\end{enumerate*}\n"
      ],
      "text/markdown": [
       "1. '10.21203/rs.3.rs-38496/v1'\n",
       "2. '10.3892/or.2019.7247'\n",
       "3. '10.1145/2983323.2983807'\n",
       "4. '10.21203/rs.3.rs-716282/v1'\n",
       "5. '10.21203/rs.3.rs-128597/v1'\n",
       "6. '10.21203/rs.3.rs-366917/v1'\n",
       "7. '10.1145/2882903.2903736'\n",
       "8. '10.1145/3364452.33644558'\n",
       "9. '10.7238/a.v0i22.3214'\n",
       "10. '10.1080/03075079.2020.1739014'\n",
       "11. '10.1111/sms.13979'\n",
       "12. '10.1080/13504851.2019.1610703'\n",
       "13. '10.1080/17565529.2019.1596063'\n",
       "14. '10.1145/3149485.3149492'\n",
       "15. '10.2200/s01041ed1v01y202008mop005'\n",
       "16. '10.1075/ijlcr.3.2.02bel'\n",
       "17. '10.1093/nar/gky710'\n",
       "18. '10.1002/cne.25073'\n",
       "19. '10.2109/jcersj2.16126'\n",
       "20. '10.1039/c6ra10501g'\n",
       "\n",
       "\n"
      ],
      "text/plain": [
       " [1] \"10.21203/rs.3.rs-38496/v1\"         \"10.3892/or.2019.7247\"             \n",
       " [3] \"10.1145/2983323.2983807\"           \"10.21203/rs.3.rs-716282/v1\"       \n",
       " [5] \"10.21203/rs.3.rs-128597/v1\"        \"10.21203/rs.3.rs-366917/v1\"       \n",
       " [7] \"10.1145/2882903.2903736\"           \"10.1145/3364452.33644558\"         \n",
       " [9] \"10.7238/a.v0i22.3214\"              \"10.1080/03075079.2020.1739014\"    \n",
       "[11] \"10.1111/sms.13979\"                 \"10.1080/13504851.2019.1610703\"    \n",
       "[13] \"10.1080/17565529.2019.1596063\"     \"10.1145/3149485.3149492\"          \n",
       "[15] \"10.2200/s01041ed1v01y202008mop005\" \"10.1075/ijlcr.3.2.02bel\"          \n",
       "[17] \"10.1093/nar/gky710\"                \"10.1002/cne.25073\"                \n",
       "[19] \"10.2109/jcersj2.16126\"             \"10.1039/c6ra10501g\"               "
      ]
     },
     "metadata": {},
     "output_type": "display_data"
    },
    {
     "data": {
      "text/html": [
       "<table class=\"dataframe\">\n",
       "<caption>A data.frame: 20 × 1</caption>\n",
       "<thead>\n",
       "\t<tr><th></th><th scope=col>date-parts</th></tr>\n",
       "\t<tr><th></th><th scope=col>&lt;list&gt;</th></tr>\n",
       "</thead>\n",
       "<tbody>\n",
       "\t<tr><th scope=row>1</th><td>2020, 7, 15</td></tr>\n",
       "\t<tr><th scope=row>2</th><td>2019, 7, 24</td></tr>\n",
       "\t<tr><th scope=row>3</th><td>2016, 10, 24</td></tr>\n",
       "\t<tr><th scope=row>4</th><td>2021, 8, 13</td></tr>\n",
       "\t<tr><th scope=row>5</th><td>2020, 12, 31</td></tr>\n",
       "\t<tr><th scope=row>6</th><td>2021, 4, 6</td></tr>\n",
       "\t<tr><th scope=row>7</th><td>2016, 6, 14</td></tr>\n",
       "\t<tr><th scope=row>8</th><td>2019, 12, 12</td></tr>\n",
       "\t<tr><th scope=row>9</th><td>2018, 11, 15</td></tr>\n",
       "\t<tr><th scope=row>10</th><td>2020, 3, 12</td></tr>\n",
       "\t<tr><th scope=row>11</th><td>2021, 5, 24</td></tr>\n",
       "\t<tr><th scope=row>12</th><td>2019, 4, 26</td></tr>\n",
       "\t<tr><th scope=row>13</th><td>2019, 4, 6</td></tr>\n",
       "\t<tr><th scope=row>14</th><td>2018, 1, 11</td></tr>\n",
       "\t<tr><th scope=row>15</th><td>2021, 3, 15</td></tr>\n",
       "\t<tr><th scope=row>16</th><td>2017, 12, 4</td></tr>\n",
       "\t<tr><th scope=row>17</th><td>2018, 8, 8</td></tr>\n",
       "\t<tr><th scope=row>18</th><td>2020, 12, 3</td></tr>\n",
       "\t<tr><th scope=row>19</th><td>2016</td></tr>\n",
       "\t<tr><th scope=row>20</th><td>2016</td></tr>\n",
       "</tbody>\n",
       "</table>\n"
      ],
      "text/latex": [
       "A data.frame: 20 × 1\n",
       "\\begin{tabular}{r|l}\n",
       "  & date-parts\\\\\n",
       "  & <list>\\\\\n",
       "\\hline\n",
       "\t1 & 2020, 7, 15\\\\\n",
       "\t2 & 2019, 7, 24\\\\\n",
       "\t3 & 2016, 10, 24\\\\\n",
       "\t4 & 2021, 8, 13\\\\\n",
       "\t5 & 2020, 12, 31\\\\\n",
       "\t6 & 2021, 4, 6\\\\\n",
       "\t7 & 2016, 6, 14\\\\\n",
       "\t8 & 2019, 12, 12\\\\\n",
       "\t9 & 2018, 11, 15\\\\\n",
       "\t10 & 2020, 3, 12\\\\\n",
       "\t11 & 2021, 5, 24\\\\\n",
       "\t12 & 2019, 4, 26\\\\\n",
       "\t13 & 2019, 4, 6\\\\\n",
       "\t14 & 2018, 1, 11\\\\\n",
       "\t15 & 2021, 3, 15\\\\\n",
       "\t16 & 2017, 12, 4\\\\\n",
       "\t17 & 2018, 8, 8\\\\\n",
       "\t18 & 2020, 12, 3\\\\\n",
       "\t19 & 2016\\\\\n",
       "\t20 & 2016\\\\\n",
       "\\end{tabular}\n"
      ],
      "text/markdown": [
       "\n",
       "A data.frame: 20 × 1\n",
       "\n",
       "| <!--/--> | date-parts &lt;list&gt; |\n",
       "|---|---|\n",
       "| 1 | 2020, 7, 15 |\n",
       "| 2 | 2019, 7, 24 |\n",
       "| 3 | 2016, 10, 24 |\n",
       "| 4 | 2021, 8, 13 |\n",
       "| 5 | 2020, 12, 31 |\n",
       "| 6 | 2021, 4, 6 |\n",
       "| 7 | 2016, 6, 14 |\n",
       "| 8 | 2019, 12, 12 |\n",
       "| 9 | 2018, 11, 15 |\n",
       "| 10 | 2020, 3, 12 |\n",
       "| 11 | 2021, 5, 24 |\n",
       "| 12 | 2019, 4, 26 |\n",
       "| 13 | 2019, 4, 6 |\n",
       "| 14 | 2018, 1, 11 |\n",
       "| 15 | 2021, 3, 15 |\n",
       "| 16 | 2017, 12, 4 |\n",
       "| 17 | 2018, 8, 8 |\n",
       "| 18 | 2020, 12, 3 |\n",
       "| 19 | 2016 |\n",
       "| 20 | 2016 |\n",
       "\n"
      ],
      "text/plain": [
       "   date-parts  \n",
       "1  2020, 7, 15 \n",
       "2  2019, 7, 24 \n",
       "3  2016, 10, 24\n",
       "4  2021, 8, 13 \n",
       "5  2020, 12, 31\n",
       "6  2021, 4, 6  \n",
       "7  2016, 6, 14 \n",
       "8  2019, 12, 12\n",
       "9  2018, 11, 15\n",
       "10 2020, 3, 12 \n",
       "11 2021, 5, 24 \n",
       "12 2019, 4, 26 \n",
       "13 2019, 4, 6  \n",
       "14 2018, 1, 11 \n",
       "15 2021, 3, 15 \n",
       "16 2017, 12, 4 \n",
       "17 2018, 8, 8  \n",
       "18 2020, 12, 3 \n",
       "19 2016        \n",
       "20 2016        "
      ]
     },
     "metadata": {},
     "output_type": "display_data"
    },
    {
     "data": {
      "text/html": [
       "<style>\n",
       ".list-inline {list-style: none; margin:0; padding: 0}\n",
       ".list-inline>li {display: inline-block}\n",
       ".list-inline>li:not(:last-child)::after {content: \"\\00b7\"; padding: 0 .5ex}\n",
       "</style>\n",
       "<ol class=list-inline><li>'posted-content'</li><li>'journal-article'</li><li>'proceedings-article'</li><li>'posted-content'</li><li>'posted-content'</li><li>'posted-content'</li><li>'proceedings-article'</li><li>'journal-article'</li><li>'journal-article'</li><li>'journal-article'</li><li>'journal-article'</li><li>'journal-article'</li><li>'journal-article'</li><li>'journal-article'</li><li>'journal-article'</li><li>'journal-article'</li><li>'journal-article'</li><li>'journal-article'</li><li>'journal-article'</li><li>'journal-article'</li></ol>\n"
      ],
      "text/latex": [
       "\\begin{enumerate*}\n",
       "\\item 'posted-content'\n",
       "\\item 'journal-article'\n",
       "\\item 'proceedings-article'\n",
       "\\item 'posted-content'\n",
       "\\item 'posted-content'\n",
       "\\item 'posted-content'\n",
       "\\item 'proceedings-article'\n",
       "\\item 'journal-article'\n",
       "\\item 'journal-article'\n",
       "\\item 'journal-article'\n",
       "\\item 'journal-article'\n",
       "\\item 'journal-article'\n",
       "\\item 'journal-article'\n",
       "\\item 'journal-article'\n",
       "\\item 'journal-article'\n",
       "\\item 'journal-article'\n",
       "\\item 'journal-article'\n",
       "\\item 'journal-article'\n",
       "\\item 'journal-article'\n",
       "\\item 'journal-article'\n",
       "\\end{enumerate*}\n"
      ],
      "text/markdown": [
       "1. 'posted-content'\n",
       "2. 'journal-article'\n",
       "3. 'proceedings-article'\n",
       "4. 'posted-content'\n",
       "5. 'posted-content'\n",
       "6. 'posted-content'\n",
       "7. 'proceedings-article'\n",
       "8. 'journal-article'\n",
       "9. 'journal-article'\n",
       "10. 'journal-article'\n",
       "11. 'journal-article'\n",
       "12. 'journal-article'\n",
       "13. 'journal-article'\n",
       "14. 'journal-article'\n",
       "15. 'journal-article'\n",
       "16. 'journal-article'\n",
       "17. 'journal-article'\n",
       "18. 'journal-article'\n",
       "19. 'journal-article'\n",
       "20. 'journal-article'\n",
       "\n",
       "\n"
      ],
      "text/plain": [
       " [1] \"posted-content\"      \"journal-article\"     \"proceedings-article\"\n",
       " [4] \"posted-content\"      \"posted-content\"      \"posted-content\"     \n",
       " [7] \"proceedings-article\" \"journal-article\"     \"journal-article\"    \n",
       "[10] \"journal-article\"     \"journal-article\"     \"journal-article\"    \n",
       "[13] \"journal-article\"     \"journal-article\"     \"journal-article\"    \n",
       "[16] \"journal-article\"     \"journal-article\"     \"journal-article\"    \n",
       "[19] \"journal-article\"     \"journal-article\"    "
      ]
     },
     "metadata": {},
     "output_type": "display_data"
    },
    {
     "data": {
      "text/html": [
       "51544"
      ],
      "text/latex": [
       "51544"
      ],
      "text/markdown": [
       "51544"
      ],
      "text/plain": [
       "[1] 51544"
      ]
     },
     "metadata": {},
     "output_type": "display_data"
    }
   ],
   "source": [
    "# using fromJSON + query URL to retrieve and parse results\n",
    "results <- jsonlite::fromJSON(paste0(query, mailto))\n",
    "\n",
    "# access the results by subsetting\n",
    "results$message$items$DOI\n",
    "results$message$items$published\n",
    "results$message$items$type\n",
    "\n",
    "# total number ot items matching the query\n",
    "results$message$`total-results`"
   ]
  },
  {
   "cell_type": "markdown",
   "metadata": {},
   "source": [
    "### Step 5: retrieving all DOIs matching the query\n",
    "\n",
    "**To reduce the load on the crossref API, we will not execute this step in the workshop - I will provide you with the data necessary to proceed.**\n",
    "\n",
    "To retrieve the information on all matches, we have to iterate through the results, which by default are returned in sets of 20. For this purpose, crossref offers *cursors*. They work like this: to your first query, you add the *cursor* parameter with the value \" \\* \". Alongside the results, crossref returns a *next-cursor* field. You can use this value to access the next set of 20 items, and so on.\n",
    "\n",
    "We can implement this in R using a *while loop*, a useful form of iteration if you don't exactly know how long a sequence is. \n",
    "\n",
    "In the example below, we first add \"&cursor=\\*\" to the first of our query URLs, pass that URL to *fromJSON*, and store the result in *results*. Next, we extract the DOIs, publication year (since this is a data frame, extraction is a little more complex), and resource type and store them in a data frame. We store the next cursor in *next_cursor*.\n",
    "\n",
    "We then initiate a while loop that will repeat itself until a condition is met. Here, the loop is repeated until the number of rows (= items already retrieved) is no longer smaller than the total number of items matching the query. Within the loop, we will use *rbind* to add the new results to the data frame we previously created for storing DOIs, publication year and resource type."
   ]
  },
  {
   "cell_type": "code",
   "execution_count": 5,
   "metadata": {},
   "outputs": [],
   "source": [
    "# DO NOT RUN THIS!\n",
    "\n",
    "# first request with \"cursor=*\"\"\n",
    "#results <- fromJSON(paste0(\"https://api.crossref.org/works?query.affiliation=humboldt+universit+berlin&filter=from-pub-date:2022-01-01&cursor=\", \"*&mailto=janedoe@example.org\"))\n",
    "# extract and store information in a data frame\n",
    "#DF <- data.frame(c(DOIs = list(results$message$items$DOI),\n",
    "#             publication_year = list(unlist(map(results$message$items$published$`date-parts`, 1))),\n",
    "#             resource_type = list(results$message$items$type)))\n",
    "# store next cursor\n",
    "#next_cursor <- results$message$`next-cursor`\n",
    "\n",
    "# iterate through the results until the condition is met; append new results with each iteration\n",
    "#while (nrow(DF) < results$message$`total-results`) {\n",
    "#  results <- fromJSON(paste0(\"https://api.crossref.org/works?query.affiliation=humboldt+universit+berlin&filter=from-pub-date:2022-01-01&cursor=\", next_cursor, \"&mailto=janedoe@example.org\"))\n",
    "#  DF <- rbind(DF, data.frame(c(DOIs = list(results$message$items$DOI),\n",
    "#                     publication_year = list(unlist(map(results$message$items$published$`date-parts`, 1))),\n",
    "#                     resource_type = list(results$message$items$type))))\n",
    "#  next_cursor <- results$message$`next-cursor`\n",
    "#}"
   ]
  },
  {
   "cell_type": "markdown",
   "metadata": {},
   "source": [
    "### EXERCISE: try the package rcrossref\n",
    "\n",
    "*rcrossref* is an R package specifically for using the crossref API. Crossref holds a lot of metadata about various aspects of scholarly publication. For example, crossref offers citation counts for works, based on reference matching within its holdings. \n",
    "\n",
    "The availability of this information depends on members choosing to add references upon metadata creation. Citation information is also less complete compared to other bibliometric databases. However, opening up citation information is a major issue in bibliometric research, and therefore will hopefully grow in the future.\n",
    "\n",
    "The function *cr_citation_count* works in a similar way to what we did above. The function takes a vector of dois, and returns a dataframe with citation counts provided by crossref.\n",
    "\n",
    "Below, we first install and load *rcrossref*. Then, we load a sample of 50 DOIs and retrieve citation counts from crossref.\n",
    "\n",
    "**Have a look at the result.**\n",
    "* What is the average citation count of this sample?\n",
    "* What publication has the highest citation count?\n",
    "* Try to access that publication. Can you open and read it?"
   ]
  },
  {
   "cell_type": "code",
   "execution_count": 1,
   "metadata": {},
   "outputs": [
    {
     "name": "stderr",
     "output_type": "stream",
     "text": [
      "Warning message:\n",
      "\"package 'rcrossref' was built under R version 4.0.5\"\n"
     ]
    }
   ],
   "source": [
    "#install.packages(\"rcrossref\")\n",
    "library(rcrossref)"
   ]
  },
  {
   "cell_type": "code",
   "execution_count": 3,
   "metadata": {},
   "outputs": [],
   "source": [
    "# import the sample DOIs\n",
    "DOI_sample <- read.csv(\"../data/DOI_sample.csv\", row.names = \"X\")"
   ]
  },
  {
   "cell_type": "code",
   "execution_count": 4,
   "metadata": {},
   "outputs": [
    {
     "name": "stdout",
     "output_type": "stream",
     "text": [
      "                                                           doi count\n",
      "1                                           10.3139/104.111575     2\n",
      "2                                           10.3139/104.111560     1\n",
      "3                                           10.3139/104.111574     0\n",
      "4                                               10.3852/15-254     7\n",
      "5                                           10.1130/ges02032.1     4\n",
      "6                                       10.1055/s-0037-1598699     1\n",
      "7                                       10.1055/s-0036-1594189     0\n",
      "8                                      10.1515/cdbme-2017-0005     8\n",
      "9                                        10.1515/zwf-2021-0045     0\n",
      "10                                    10.1177/0269881115609072    73\n",
      "11                                      10.1002/chem.201603098    14\n",
      "12                                      10.1002/ange.201803136    40\n",
      "13                                      10.1055/s-0038-1668731     0\n",
      "14                                    10.1093/eurheartj/ehz540     0\n",
      "15                               10.1093/eurheartj/ehz748.0501     0\n",
      "16                                            10.1002/pip.2725    17\n",
      "17                                   10.22331/q-2021-03-23-417     2\n",
      "18                           10.1200/jco.2016.34.15_suppl.5005     1\n",
      "19                                          10.3139/104.111561     2\n",
      "20                                          10.3139/104.112098     0\n",
      "21                                          10.3139/104.111918     1\n",
      "22                                          10.1111/apha.13701     0\n",
      "23                                      10.1055/s-0038-1671328     0\n",
      "24 10.1164/ajrccm-conference.2020.201.1_meetingabstracts.a5255     0\n",
      "25                                 10.1563/aaid-joi-d-16-00065     5\n",
      "26                                      10.1055/s-0039-1693665     0\n",
      "27                                    10.1021/acsomega.9b04371     7\n",
      "28                                         10.1055/a-0829-6580     1\n",
      "29                                   10.1109/eptc.2017.8277550     1\n",
      "30                                10.1182/blood-2018-99-116652     1\n",
      "31                                     10.1145/3341105.3373909     7\n",
      "32                                          10.1111/head.13278     1\n",
      "33                                      10.25039/x44.2017.op39     0\n",
      "34                             10.1200/jco.2017.35.7_suppl.134     0\n",
      "35                                    10.1515/bejeap-2020-0084     1\n",
      "36                                         10.1055/a-1301-8852     0\n",
      "37                            10.1109/icassp40776.2020.9054411     0\n",
      "38                                     10.1145/3434770.3459736     0\n",
      "39                                     10.1093/ndt/gfab128.003     0\n",
      "40                                        10.1128/jvi.00351-16    15\n",
      "41                                10.1302/0301-620x.98b1.36347    26\n",
      "42                                       10.1093/icvts/ivaa235     0\n",
      "43                                    10.1177/1747021818769259     3\n",
      "44                                  10.21203/rs.3.rs-122548/v1     1\n",
      "45                                          10.1039/c5cc01488c    22\n",
      "46                                      10.1002/pssa.201532819     2\n",
      "47                                      10.1093/cvr/cvy060.413     0\n",
      "48                                           10.1116/1.4965883    14\n",
      "49                                           10.1111/aor.12725     9\n",
      "50                                             10.1002/cpcy.20     3\n"
     ]
    },
    {
     "data": {
      "text/plain": [
       "   Min. 1st Qu.  Median    Mean 3rd Qu.    Max. \n",
       "   0.00    0.00    1.00    5.84    6.50   73.00 "
      ]
     },
     "metadata": {},
     "output_type": "display_data"
    }
   ],
   "source": [
    "# create a data frame for storing the results\n",
    "DF_citations <- data.frame(c(doi = character(),\n",
    "                             count = numeric()))\n",
    "\n",
    "# iterate through the sample DOIs and retrieve citation information\n",
    "for (i in 1:nrow(DOI_sample)) {\n",
    "    tryCatch(\n",
    "        {DF_citations <- rbind(DF_citations, cr_citation_count(doi = DOI_sample[i,]))},\n",
    "        error = function(e) {print(\"No citations found.\")}\n",
    "    )\n",
    "}\n",
    "                           \n",
    "print(DF_citations)\n",
    "summary(DF_citations$count)"
   ]
  }
 ],
 "metadata": {
  "kernelspec": {
   "display_name": "R",
   "language": "R",
   "name": "ir"
  },
  "language_info": {
   "codemirror_mode": "r",
   "file_extension": ".r",
   "mimetype": "text/x-r-source",
   "name": "R",
   "pygments_lexer": "r",
   "version": "4.0.4"
  }
 },
 "nbformat": 4,
 "nbformat_minor": 4
}
