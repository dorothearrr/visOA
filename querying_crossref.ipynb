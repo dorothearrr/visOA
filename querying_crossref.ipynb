{
 "cells": [
  {
   "cell_type": "markdown",
   "metadata": {},
   "source": [
    "## Querying crossref\n",
    "\n",
    "\n",
    "### Step 1: load packages\n",
    "\n",
    "* **jsonlite** for working with JSON\n",
    "* **purrr** for working with vectors\n",
    "\n",
    "If necessary, install the packages before loading them."
   ]
  },
  {
   "cell_type": "code",
   "execution_count": 3,
   "metadata": {},
   "outputs": [],
   "source": [
    "#install.packages(\"jsonlite\")\n",
    "#install.packages(\"purrr\")\n",
    "library(jsonlite)\n",
    "library(purrr)"
   ]
  },
  {
   "cell_type": "markdown",
   "metadata": {},
   "source": [
    "### Step 2: specify the query parameters\n",
    "\n",
    "The crossref API is well documented (see [here](https://github.com/CrossRef/rest-api-doc)) and offers many functionalities.\n",
    "\n",
    "For our use case, we want to retrieve *DOIs of publications from authors that are afiiliated with a specific organization (Humboldt-Universität zu Berlin)*.\n",
    "\n",
    "Crossref has not yet implemented organisation identifiers in the affiliation information (see [here](https://data.crossref.org/schemas/common4.4.2.xsd)). Therefore, we have to rely on searching for name variants and postprocess the results to remove duplicates etc.\n",
    "\n",
    "We can query the *affiliation* field of crossref via:\n",
    "* the endpoint *works* and\n",
    "* the field query parameter *query.affiliation*.\n",
    "\n",
    "For querying the name variants, we choose:\n",
    "* humboldt+universität+berlin\n",
    "* humboldt+university+berlin\n",
    "* hu+berlin\n",
    "\n",
    "We store the base query and name variants in two objects:"
   ]
  },
  {
   "cell_type": "code",
   "execution_count": 5,
   "metadata": {},
   "outputs": [],
   "source": [
    "base_query <- \"https://api.crossref.org/works?query.affiliation=\"\n",
    "name_variants <- list(\"humboldt+universit%C3%A4t+berlin\", \"humboldt+university+berlin\", \"hu+berlin\")"
   ]
  },
  {
   "cell_type": "markdown",
   "metadata": {},
   "source": [
    "### Step 3: politely using APIs\n",
    "\n",
    "APIs offer valuable services to many people and organizations. Therefore, it is important to *politely* use APIs and not burden them with too many requests.  Some services regularly make data dumps available, so you might not even have to use the service's API.\n",
    "\n",
    "Some APIs specify polite use in their documentation, including crossref (see [here](https://github.com/CrossRef/rest-api-doc#etiquette)). To comply with the API etiquette, we will append the *mailto* parameter to the query. This allows crossref to contact us in case there are any issues with our query."
   ]
  },
  {
   "cell_type": "code",
   "execution_count": 6,
   "metadata": {},
   "outputs": [],
   "source": [
    "# change this value to your mail adress:\n",
    "mailto <- \"&mailto=janedoe@example.org\""
   ]
  },
  {
   "cell_type": "markdown",
   "metadata": {},
   "source": [
    "### Step 4: build the query URLs\n",
    "\n",
    "Now we have all the components to build the query URLs. We use the function *paste0*, which concatenates strings without adding space between the components. Because the components have varying length, we use *rep* to specify that *base_query* and *mailto* are used three times (for all three name variants)."
   ]
  },
  {
   "cell_type": "code",
   "execution_count": 7,
   "metadata": {},
   "outputs": [
    {
     "name": "stdout",
     "output_type": "stream",
     "text": [
      "[1] \"https://api.crossref.org/works?query.affiliation=humboldt+universit%C3%A4t+berlin&mailto=janedoe@example.org\"\n",
      "[2] \"https://api.crossref.org/works?query.affiliation=humboldt+university+berlin&mailto=janedoe@example.org\"      \n",
      "[3] \"https://api.crossref.org/works?query.affiliation=hu+berlin&mailto=janedoe@example.org\"                       \n"
     ]
    }
   ],
   "source": [
    "urls <- paste0(rep(base_query, 3), name_variants, rep(mailto, 3))\n",
    "print(urls)"
   ]
  },
  {
   "cell_type": "markdown",
   "metadata": {},
   "source": [
    "### Step 5: exploring the results\n",
    "\n",
    "The crossref API returns results in JSON, a common data format. We use *fromJSON*, pass it one of the query URLs to retrieve and convert results, and store them in the object *results*.\n",
    "\n",
    "Information in JSON objects is often stored similarly to nested lists with names. Therefore, we can access a specific piece of information by subsetting the *results* object using names. Here, we want to access DOIs, publication year and type of publications matching the query. Notice that results are returned in different classes - two character vectors and one data frame.\n",
    "\n",
    "By default, crossref returns 20 items at a time.\n",
    "\n",
    "You can find out how many items match your query by accessing *total-results* - in this case, we have more than 80,000 matches!"
   ]
  },
  {
   "cell_type": "code",
   "execution_count": 9,
   "metadata": {},
   "outputs": [
    {
     "data": {
      "text/html": [
       "<style>\n",
       ".list-inline {list-style: none; margin:0; padding: 0}\n",
       ".list-inline>li {display: inline-block}\n",
       ".list-inline>li:not(:last-child)::after {content: \"\\00b7\"; padding: 0 .5ex}\n",
       "</style>\n",
       "<ol class=list-inline><li>'10.1515/dmvm-2007-0077'</li><li>'10.1027/2151-2604/a000199'</li><li>'10.1145/3356883'</li><li>'10.1016/s1388-9842(00)80302-5'</li><li>'10.13109/weme.2018.70.3.263'</li><li>'10.3233/fi-2021-2017'</li><li>'10.1027/1866-5888/a000219'</li><li>'10.1027/2151-2604/a000197'</li><li>'10.1109/vr.2019.8797682'</li><li>'10.1099/jmm.0.46225-0'</li><li>'10.1093/oep/gpy062'</li><li>'10.1002/ece3.5992'</li><li>'10.1080/09723757.2001.11885744'</li><li>'10.1021/bi960666z'</li><li>'10.1177/159101990000600109'</li><li>'10.1002/ece3.6986'</li><li>'10.1167/jov.20.2.11'</li><li>'10.1524/slaw.2011.0012'</li><li>'10.1524/slaw.2011.0021'</li><li>'10.1524/slaw.2009.0027'</li></ol>\n"
      ],
      "text/latex": [
       "\\begin{enumerate*}\n",
       "\\item '10.1515/dmvm-2007-0077'\n",
       "\\item '10.1027/2151-2604/a000199'\n",
       "\\item '10.1145/3356883'\n",
       "\\item '10.1016/s1388-9842(00)80302-5'\n",
       "\\item '10.13109/weme.2018.70.3.263'\n",
       "\\item '10.3233/fi-2021-2017'\n",
       "\\item '10.1027/1866-5888/a000219'\n",
       "\\item '10.1027/2151-2604/a000197'\n",
       "\\item '10.1109/vr.2019.8797682'\n",
       "\\item '10.1099/jmm.0.46225-0'\n",
       "\\item '10.1093/oep/gpy062'\n",
       "\\item '10.1002/ece3.5992'\n",
       "\\item '10.1080/09723757.2001.11885744'\n",
       "\\item '10.1021/bi960666z'\n",
       "\\item '10.1177/159101990000600109'\n",
       "\\item '10.1002/ece3.6986'\n",
       "\\item '10.1167/jov.20.2.11'\n",
       "\\item '10.1524/slaw.2011.0012'\n",
       "\\item '10.1524/slaw.2011.0021'\n",
       "\\item '10.1524/slaw.2009.0027'\n",
       "\\end{enumerate*}\n"
      ],
      "text/markdown": [
       "1. '10.1515/dmvm-2007-0077'\n",
       "2. '10.1027/2151-2604/a000199'\n",
       "3. '10.1145/3356883'\n",
       "4. '10.1016/s1388-9842(00)80302-5'\n",
       "5. '10.13109/weme.2018.70.3.263'\n",
       "6. '10.3233/fi-2021-2017'\n",
       "7. '10.1027/1866-5888/a000219'\n",
       "8. '10.1027/2151-2604/a000197'\n",
       "9. '10.1109/vr.2019.8797682'\n",
       "10. '10.1099/jmm.0.46225-0'\n",
       "11. '10.1093/oep/gpy062'\n",
       "12. '10.1002/ece3.5992'\n",
       "13. '10.1080/09723757.2001.11885744'\n",
       "14. '10.1021/bi960666z'\n",
       "15. '10.1177/159101990000600109'\n",
       "16. '10.1002/ece3.6986'\n",
       "17. '10.1167/jov.20.2.11'\n",
       "18. '10.1524/slaw.2011.0012'\n",
       "19. '10.1524/slaw.2011.0021'\n",
       "20. '10.1524/slaw.2009.0027'\n",
       "\n",
       "\n"
      ],
      "text/plain": [
       " [1] \"10.1515/dmvm-2007-0077\"         \"10.1027/2151-2604/a000199\"     \n",
       " [3] \"10.1145/3356883\"                \"10.1016/s1388-9842(00)80302-5\" \n",
       " [5] \"10.13109/weme.2018.70.3.263\"    \"10.3233/fi-2021-2017\"          \n",
       " [7] \"10.1027/1866-5888/a000219\"      \"10.1027/2151-2604/a000197\"     \n",
       " [9] \"10.1109/vr.2019.8797682\"        \"10.1099/jmm.0.46225-0\"         \n",
       "[11] \"10.1093/oep/gpy062\"             \"10.1002/ece3.5992\"             \n",
       "[13] \"10.1080/09723757.2001.11885744\" \"10.1021/bi960666z\"             \n",
       "[15] \"10.1177/159101990000600109\"     \"10.1002/ece3.6986\"             \n",
       "[17] \"10.1167/jov.20.2.11\"            \"10.1524/slaw.2011.0012\"        \n",
       "[19] \"10.1524/slaw.2011.0021\"         \"10.1524/slaw.2009.0027\"        "
      ]
     },
     "metadata": {},
     "output_type": "display_data"
    },
    {
     "data": {
      "text/html": [
       "<table class=\"dataframe\">\n",
       "<caption>A data.frame: 20 × 1</caption>\n",
       "<thead>\n",
       "\t<tr><th></th><th scope=col>date-parts</th></tr>\n",
       "\t<tr><th></th><th scope=col>&lt;list&gt;</th></tr>\n",
       "</thead>\n",
       "<tbody>\n",
       "\t<tr><th scope=row>1</th><td>2007, 12, 15</td></tr>\n",
       "\t<tr><th scope=row>2</th><td>2015, 1</td></tr>\n",
       "\t<tr><th scope=row>3</th><td>2019, 12, 6</td></tr>\n",
       "\t<tr><th scope=row>4</th><td>2000, 6</td></tr>\n",
       "\t<tr><th scope=row>5</th><td>2018, 5, 25</td></tr>\n",
       "\t<tr><th scope=row>6</th><td>2021, 3, 10</td></tr>\n",
       "\t<tr><th scope=row>7</th><td>2019, 1</td></tr>\n",
       "\t<tr><th scope=row>8</th><td>2015, 1</td></tr>\n",
       "\t<tr><th scope=row>9</th><td>2019, 3</td></tr>\n",
       "\t<tr><th scope=row>10</th><td>2006, 3, 1</td></tr>\n",
       "\t<tr><th scope=row>11</th><td>2018, 12, 12</td></tr>\n",
       "\t<tr><th scope=row>12</th><td>2020, 1, 11</td></tr>\n",
       "\t<tr><th scope=row>13</th><td>2001, 6</td></tr>\n",
       "\t<tr><th scope=row>14</th><td>1997, 1, 1</td></tr>\n",
       "\t<tr><th scope=row>15</th><td>2000, 3</td></tr>\n",
       "\t<tr><th scope=row>16</th><td>2020, 11, 12</td></tr>\n",
       "\t<tr><th scope=row>17</th><td>2020, 2, 27</td></tr>\n",
       "\t<tr><th scope=row>18</th><td>2011, 6</td></tr>\n",
       "\t<tr><th scope=row>19</th><td>2011, 6</td></tr>\n",
       "\t<tr><th scope=row>20</th><td>2009, 12</td></tr>\n",
       "</tbody>\n",
       "</table>\n"
      ],
      "text/latex": [
       "A data.frame: 20 × 1\n",
       "\\begin{tabular}{r|l}\n",
       "  & date-parts\\\\\n",
       "  & <list>\\\\\n",
       "\\hline\n",
       "\t1 & 2007, 12, 15\\\\\n",
       "\t2 & 2015, 1\\\\\n",
       "\t3 & 2019, 12, 6\\\\\n",
       "\t4 & 2000, 6\\\\\n",
       "\t5 & 2018, 5, 25\\\\\n",
       "\t6 & 2021, 3, 10\\\\\n",
       "\t7 & 2019, 1\\\\\n",
       "\t8 & 2015, 1\\\\\n",
       "\t9 & 2019, 3\\\\\n",
       "\t10 & 2006, 3, 1\\\\\n",
       "\t11 & 2018, 12, 12\\\\\n",
       "\t12 & 2020, 1, 11\\\\\n",
       "\t13 & 2001, 6\\\\\n",
       "\t14 & 1997, 1, 1\\\\\n",
       "\t15 & 2000, 3\\\\\n",
       "\t16 & 2020, 11, 12\\\\\n",
       "\t17 & 2020, 2, 27\\\\\n",
       "\t18 & 2011, 6\\\\\n",
       "\t19 & 2011, 6\\\\\n",
       "\t20 & 2009, 12\\\\\n",
       "\\end{tabular}\n"
      ],
      "text/markdown": [
       "\n",
       "A data.frame: 20 × 1\n",
       "\n",
       "| <!--/--> | date-parts &lt;list&gt; |\n",
       "|---|---|\n",
       "| 1 | 2007, 12, 15 |\n",
       "| 2 | 2015, 1 |\n",
       "| 3 | 2019, 12, 6 |\n",
       "| 4 | 2000, 6 |\n",
       "| 5 | 2018, 5, 25 |\n",
       "| 6 | 2021, 3, 10 |\n",
       "| 7 | 2019, 1 |\n",
       "| 8 | 2015, 1 |\n",
       "| 9 | 2019, 3 |\n",
       "| 10 | 2006, 3, 1 |\n",
       "| 11 | 2018, 12, 12 |\n",
       "| 12 | 2020, 1, 11 |\n",
       "| 13 | 2001, 6 |\n",
       "| 14 | 1997, 1, 1 |\n",
       "| 15 | 2000, 3 |\n",
       "| 16 | 2020, 11, 12 |\n",
       "| 17 | 2020, 2, 27 |\n",
       "| 18 | 2011, 6 |\n",
       "| 19 | 2011, 6 |\n",
       "| 20 | 2009, 12 |\n",
       "\n"
      ],
      "text/plain": [
       "   date-parts  \n",
       "1  2007, 12, 15\n",
       "2  2015, 1     \n",
       "3  2019, 12, 6 \n",
       "4  2000, 6     \n",
       "5  2018, 5, 25 \n",
       "6  2021, 3, 10 \n",
       "7  2019, 1     \n",
       "8  2015, 1     \n",
       "9  2019, 3     \n",
       "10 2006, 3, 1  \n",
       "11 2018, 12, 12\n",
       "12 2020, 1, 11 \n",
       "13 2001, 6     \n",
       "14 1997, 1, 1  \n",
       "15 2000, 3     \n",
       "16 2020, 11, 12\n",
       "17 2020, 2, 27 \n",
       "18 2011, 6     \n",
       "19 2011, 6     \n",
       "20 2009, 12    "
      ]
     },
     "metadata": {},
     "output_type": "display_data"
    },
    {
     "data": {
      "text/html": [
       "<style>\n",
       ".list-inline {list-style: none; margin:0; padding: 0}\n",
       ".list-inline>li {display: inline-block}\n",
       ".list-inline>li:not(:last-child)::after {content: \"\\00b7\"; padding: 0 .5ex}\n",
       "</style>\n",
       "<ol class=list-inline><li>'journal-article'</li><li>'journal-article'</li><li>'journal-article'</li><li>'journal-article'</li><li>'journal-article'</li><li>'journal-article'</li><li>'journal-article'</li><li>'journal-article'</li><li>'proceedings-article'</li><li>'journal-article'</li><li>'journal-article'</li><li>'journal-article'</li><li>'journal-article'</li><li>'journal-article'</li><li>'journal-article'</li><li>'journal-article'</li><li>'journal-article'</li><li>'journal-article'</li><li>'journal-article'</li><li>'journal-article'</li></ol>\n"
      ],
      "text/latex": [
       "\\begin{enumerate*}\n",
       "\\item 'journal-article'\n",
       "\\item 'journal-article'\n",
       "\\item 'journal-article'\n",
       "\\item 'journal-article'\n",
       "\\item 'journal-article'\n",
       "\\item 'journal-article'\n",
       "\\item 'journal-article'\n",
       "\\item 'journal-article'\n",
       "\\item 'proceedings-article'\n",
       "\\item 'journal-article'\n",
       "\\item 'journal-article'\n",
       "\\item 'journal-article'\n",
       "\\item 'journal-article'\n",
       "\\item 'journal-article'\n",
       "\\item 'journal-article'\n",
       "\\item 'journal-article'\n",
       "\\item 'journal-article'\n",
       "\\item 'journal-article'\n",
       "\\item 'journal-article'\n",
       "\\item 'journal-article'\n",
       "\\end{enumerate*}\n"
      ],
      "text/markdown": [
       "1. 'journal-article'\n",
       "2. 'journal-article'\n",
       "3. 'journal-article'\n",
       "4. 'journal-article'\n",
       "5. 'journal-article'\n",
       "6. 'journal-article'\n",
       "7. 'journal-article'\n",
       "8. 'journal-article'\n",
       "9. 'proceedings-article'\n",
       "10. 'journal-article'\n",
       "11. 'journal-article'\n",
       "12. 'journal-article'\n",
       "13. 'journal-article'\n",
       "14. 'journal-article'\n",
       "15. 'journal-article'\n",
       "16. 'journal-article'\n",
       "17. 'journal-article'\n",
       "18. 'journal-article'\n",
       "19. 'journal-article'\n",
       "20. 'journal-article'\n",
       "\n",
       "\n"
      ],
      "text/plain": [
       " [1] \"journal-article\"     \"journal-article\"     \"journal-article\"    \n",
       " [4] \"journal-article\"     \"journal-article\"     \"journal-article\"    \n",
       " [7] \"journal-article\"     \"journal-article\"     \"proceedings-article\"\n",
       "[10] \"journal-article\"     \"journal-article\"     \"journal-article\"    \n",
       "[13] \"journal-article\"     \"journal-article\"     \"journal-article\"    \n",
       "[16] \"journal-article\"     \"journal-article\"     \"journal-article\"    \n",
       "[19] \"journal-article\"     \"journal-article\"    "
      ]
     },
     "metadata": {},
     "output_type": "display_data"
    },
    {
     "data": {
      "text/html": [
       "88612"
      ],
      "text/latex": [
       "88612"
      ],
      "text/markdown": [
       "88612"
      ],
      "text/plain": [
       "[1] 88612"
      ]
     },
     "metadata": {},
     "output_type": "display_data"
    }
   ],
   "source": [
    "# using fromJSON + query URL to retrieve and parse results\n",
    "results <- jsonlite::fromJSON(\"https://api.crossref.org/works?query.affiliation=hu+berlin&mailto=janedoe@example.org\")\n",
    "\n",
    "# access the results by subsetting\n",
    "results$message$items$DOI\n",
    "results$message$items$published\n",
    "results$message$items$type\n",
    "\n",
    "# total number ot items matching the query\n",
    "results$message$`total-results`"
   ]
  },
  {
   "cell_type": "markdown",
   "metadata": {},
   "source": [
    "### Step 6: retrieving all DOIs matching the query\n",
    "\n",
    "**To reduce the load on the crossref API, we will not execute this step in the workshop - I will provide you with the data necessary to proceed.**\n",
    "\n",
    "To retrieve the information on all matches, we have to iterate through the results. For this purpose, crossref offers *cursors*. They work like this: to your first query, you add the *cursor* parameter with the value \" \\* \". Alongside the results, crossref returns a *next-cursor* field. You can use this value to access the next set of items, and so on.\n",
    "\n",
    "We can implement this in R using a *while loop*, a useful form of iteration if you don't exactly know how long a sequence is. \n",
    "\n",
    "In the example below, we first add \"&cursor=\\*\" to the first of our query URLs, pass that URL to *fromJSON*, and store the result in *results*. Next, we extract the DOIs, publication year (since this is a data frame, extraction is a little more complex), and resource type. We store the next cursor in *next_cursor*.\n",
    "\n",
    "We then initiate a while loop that will repeat itself until a condition is met. Here, the loop is repeated until crossref does not return a next cursor, which happens when all matches are returned. Within the loop, we will use *append* to add the new results to the objects we previously created for storing DOIs, publication year and resource type."
   ]
  },
  {
   "cell_type": "code",
   "execution_count": 1,
   "metadata": {},
   "outputs": [],
   "source": [
    "# DO NOT RUN THIS!\n",
    "\n",
    "# first request with \"cursor=*\"\"\n",
    "#results <- fromJSON(paste0(urls[1], \"&cursor=*\"))\n",
    "\n",
    "# extract and store information\n",
    "#DOIs <- results$message$items$DOI\n",
    "#publication_year <- unlist(map(results$message$items$published$`date-parts`, 1))\n",
    "#resource_type <- results$message$items$type\n",
    "#next_cursor <- results$message$`next-cursor`\n",
    "\n",
    "#while (!is.null(next_cursor)) {\n",
    "#    results <- fromJSON(paste0(urls[1], \"&cursor=\", next_cursor))\n",
    "#    DOIs <- append(DOIs, results$message$items$DOI)\n",
    "#    publication_year <- append(publication_year, unlist(map(results$message$items$published$`date-parts`, 1)))\n",
    "#    resource_type <- append(resource_type, results$message$items$type)\n",
    "#    next_cursor <- results$message$`next-cursor`\n",
    "#}"
   ]
  }
 ],
 "metadata": {
  "kernelspec": {
   "display_name": "R",
   "language": "R",
   "name": "ir"
  },
  "language_info": {
   "codemirror_mode": "r",
   "file_extension": ".r",
   "mimetype": "text/x-r-source",
   "name": "R",
   "pygments_lexer": "r",
   "version": "4.0.4"
  }
 },
 "nbformat": 4,
 "nbformat_minor": 4
}
