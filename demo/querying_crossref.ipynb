{
 "cells": [
  {
   "cell_type": "markdown",
   "metadata": {},
   "source": [
    "## Querying crossref\n",
    "\n",
    "\n",
    "### Step 1: load packages"
   ]
  },
  {
   "cell_type": "code",
   "execution_count": null,
   "metadata": {},
   "outputs": [],
   "source": [
    "#install.packages(\"jsonlite\")\n",
    "#install.packages(\"purrr\")\n",
    "library(jsonlite)\n",
    "library(purrr)"
   ]
  },
  {
   "cell_type": "markdown",
   "metadata": {},
   "source": [
    "### Step 2: specify the query parameters"
   ]
  },
  {
   "cell_type": "code",
   "execution_count": null,
   "metadata": {},
   "outputs": [],
   "source": [
    "query <- \"https://api.crossref.org/works?query.affiliation=humboldt+universit+berlin&filter=from-pub-date:2015-01-01\""
   ]
  },
  {
   "cell_type": "markdown",
   "metadata": {},
   "source": [
    "### Step 3: politely using APIs"
   ]
  },
  {
   "cell_type": "code",
   "execution_count": null,
   "metadata": {},
   "outputs": [],
   "source": [
    "mailto <- \"&mailto=jdoe@example.org\""
   ]
  },
  {
   "cell_type": "markdown",
   "metadata": {},
   "source": [
    "### Step 4: exploring the results"
   ]
  },
  {
   "cell_type": "code",
   "execution_count": null,
   "metadata": {},
   "outputs": [],
   "source": [
    "results <- jsonlite::fromJSON(paste0(query, mailto))"
   ]
  },
  {
   "cell_type": "code",
   "execution_count": null,
   "metadata": {},
   "outputs": [],
   "source": [
    "results$message$items$DOI\n",
    "results$message$items$published\n",
    "results$message$items$type"
   ]
  },
  {
   "cell_type": "code",
   "execution_count": null,
   "metadata": {},
   "outputs": [],
   "source": [
    "results$message$`total-results`"
   ]
  },
  {
   "cell_type": "markdown",
   "metadata": {},
   "source": [
    "### Step 5: retrieving all DOIs matching the query"
   ]
  },
  {
   "cell_type": "code",
   "execution_count": null,
   "metadata": {},
   "outputs": [],
   "source": [
    "# DO NOT RUN THIS!\n",
    "\n",
    "# first request with \"cursor=*\"\"\n",
    "#results <- fromJSON(paste0(\"https://api.crossref.org/works?query.affiliation=humboldt+universit+berlin&filter=from-pub-date:2022-01-01&cursor=\", \"*&mailto=janedoe@example.org\"))\n",
    "# extract and store information in a data frame\n",
    "#DF <- data.frame(c(DOIs = list(results$message$items$DOI),\n",
    "#             publication_year = list(unlist(map(results$message$items$published$`date-parts`, 1))),\n",
    "#             resource_type = list(results$message$items$type)))\n",
    "# store next cursor\n",
    "#next_cursor <- results$message$`next-cursor`\n",
    "\n",
    "# iterate through the results until the condition is met; append new results with each iteration\n",
    "#while (nrow(DF) < results$message$`total-results`) {\n",
    "#  results <- fromJSON(paste0(\"https://api.crossref.org/works?query.affiliation=humboldt+universit+berlin&filter=from-pub-date:2022-01-01&cursor=\", next_cursor, \"&mailto=janedoe@example.org\"))\n",
    "#  DF <- rbind(DF, data.frame(c(DOIs = list(results$message$items$DOI),\n",
    "#                     publication_year = list(unlist(map(results$message$items$published$`date-parts`, 1))),\n",
    "#                     resource_type = list(results$message$items$type))))\n",
    "#  next_cursor <- results$message$`next-cursor`\n",
    "#}"
   ]
  },
  {
   "cell_type": "markdown",
   "metadata": {},
   "source": [
    "### EXERCISE: try the package rcrossref"
   ]
  },
  {
   "cell_type": "code",
   "execution_count": 1,
   "metadata": {},
   "outputs": [
    {
     "name": "stderr",
     "output_type": "stream",
     "text": [
      "Warning message:\n",
      "\"package 'rcrossref' was built under R version 4.0.5\"\n"
     ]
    }
   ],
   "source": [
    "#install.packages(\"rcrossref\")\n",
    "library(rcrossref)"
   ]
  },
  {
   "cell_type": "code",
   "execution_count": 2,
   "metadata": {},
   "outputs": [],
   "source": [
    "DOI_sample <- read.csv(\"../data/DOI_sample.csv\", row.names = \"X\")"
   ]
  },
  {
   "cell_type": "code",
   "execution_count": 3,
   "metadata": {},
   "outputs": [
    {
     "name": "stdout",
     "output_type": "stream",
     "text": [
      "                                                           doi count\n",
      "1                                           10.3139/104.111575     2\n",
      "2                                           10.3139/104.111560     1\n",
      "3                                           10.3139/104.111574     0\n",
      "4                                               10.3852/15-254     7\n",
      "5                                           10.1130/ges02032.1     4\n",
      "6                                       10.1055/s-0037-1598699     1\n",
      "7                                       10.1055/s-0036-1594189     0\n",
      "8                                      10.1515/cdbme-2017-0005     8\n",
      "9                                        10.1515/zwf-2021-0045     0\n",
      "10                                    10.1177/0269881115609072    73\n",
      "11                                      10.1002/chem.201603098    14\n",
      "12                                      10.1002/ange.201803136    40\n",
      "13                                      10.1055/s-0038-1668731     0\n",
      "14                                    10.1093/eurheartj/ehz540     0\n",
      "15                               10.1093/eurheartj/ehz748.0501     0\n",
      "16                                            10.1002/pip.2725    17\n",
      "17                                   10.22331/q-2021-03-23-417     2\n",
      "18                           10.1200/jco.2016.34.15_suppl.5005     1\n",
      "19                                          10.3139/104.111561     2\n",
      "20                                          10.3139/104.112098     0\n",
      "21                                          10.3139/104.111918     1\n",
      "22                                          10.1111/apha.13701     0\n",
      "23                                      10.1055/s-0038-1671328     0\n",
      "24 10.1164/ajrccm-conference.2020.201.1_meetingabstracts.a5255     0\n",
      "25                                 10.1563/aaid-joi-d-16-00065     5\n",
      "26                                      10.1055/s-0039-1693665     0\n",
      "27                                    10.1021/acsomega.9b04371     8\n",
      "28                                         10.1055/a-0829-6580     1\n",
      "29                                   10.1109/eptc.2017.8277550     1\n",
      "30                                10.1182/blood-2018-99-116652     1\n",
      "31                                     10.1145/3341105.3373909     7\n",
      "32                                          10.1111/head.13278     1\n",
      "33                                      10.25039/x44.2017.op39     0\n",
      "34                             10.1200/jco.2017.35.7_suppl.134     0\n",
      "35                                    10.1515/bejeap-2020-0084     1\n",
      "36                                         10.1055/a-1301-8852     0\n",
      "37                            10.1109/icassp40776.2020.9054411     0\n",
      "38                                     10.1145/3434770.3459736     0\n",
      "39                                     10.1093/ndt/gfab128.003     0\n",
      "40                                        10.1128/jvi.00351-16    15\n",
      "41                                10.1302/0301-620x.98b1.36347    26\n",
      "42                                       10.1093/icvts/ivaa235     0\n",
      "43                                    10.1177/1747021818769259     3\n",
      "44                                  10.21203/rs.3.rs-122548/v1     1\n",
      "45                                          10.1039/c5cc01488c    22\n",
      "46                                      10.1002/pssa.201532819     2\n",
      "47                                      10.1093/cvr/cvy060.413     0\n",
      "48                                           10.1116/1.4965883    14\n",
      "49                                           10.1111/aor.12725     9\n",
      "50                                             10.1002/cpcy.20     3\n"
     ]
    },
    {
     "data": {
      "text/plain": [
       "   Min. 1st Qu.  Median    Mean 3rd Qu.    Max. \n",
       "   0.00    0.00    1.00    5.86    6.50   73.00 "
      ]
     },
     "metadata": {},
     "output_type": "display_data"
    }
   ],
   "source": [
    "DF_citations <- data.frame(c(doi = character(),\n",
    "                             count = numeric()))\n",
    "\n",
    "for (i in 1:nrow(DOI_sample)) {\n",
    "  DF_citations <- rbind(DF_citations, cr_citation_count(doi = DOI_sample[i,]))\n",
    "}\n",
    "                           \n",
    "print(DF_citations)\n",
    "summary(DF_citations$count)"
   ]
  }
 ],
 "metadata": {
  "kernelspec": {
   "display_name": "R",
   "language": "R",
   "name": "ir"
  },
  "language_info": {
   "codemirror_mode": "r",
   "file_extension": ".r",
   "mimetype": "text/x-r-source",
   "name": "R",
   "pygments_lexer": "r",
   "version": "4.0.4"
  }
 },
 "nbformat": 4,
 "nbformat_minor": 4
}
