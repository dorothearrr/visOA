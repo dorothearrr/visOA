{
 "cells": [
  {
   "cell_type": "markdown",
   "metadata": {},
   "source": [
    "## Analysis and visualisation\n",
    "\n",
    "\n",
    "### Step 1: load packages"
   ]
  },
  {
   "cell_type": "code",
   "execution_count": 1,
   "metadata": {},
   "outputs": [
    {
     "name": "stderr",
     "output_type": "stream",
     "text": [
      "Warning message:\n",
      "\"package 'dplyr' was built under R version 4.0.5\"\n",
      "\n",
      "Attaching package: 'dplyr'\n",
      "\n",
      "\n",
      "The following objects are masked from 'package:stats':\n",
      "\n",
      "    filter, lag\n",
      "\n",
      "\n",
      "The following objects are masked from 'package:base':\n",
      "\n",
      "    intersect, setdiff, setequal, union\n",
      "\n",
      "\n"
     ]
    }
   ],
   "source": [
    "#install.packages(\"dplyr\")\n",
    "#install.packages(\"ggplot2\")\n",
    "#install.packages(\"forcats\")\n",
    "library(dplyr)\n",
    "library(ggplot2)\n",
    "library(forcats)"
   ]
  },
  {
   "cell_type": "markdown",
   "metadata": {},
   "source": [
    "### Step 2: loading and preparing the data"
   ]
  },
  {
   "cell_type": "code",
   "execution_count": 2,
   "metadata": {},
   "outputs": [],
   "source": [
    "DF_crossref <- read.csv(\"../data/crossref_metadata.csv\", row.names = \"X\")\n",
    "DF_Unpaywall <- read.csv(\"../data/Unpaywall_metadata.csv\", row.names = \"X\")\n",
    "\n",
    "DF <- left_join(DF_crossref, DF_Unpaywall, by = \"DOIs\")"
   ]
  },
  {
   "cell_type": "markdown",
   "metadata": {},
   "source": [
    "### Step 3: inspecting the data"
   ]
  },
  {
   "cell_type": "code",
   "execution_count": 3,
   "metadata": {},
   "outputs": [
    {
     "name": "stdout",
     "output_type": "stream",
     "text": [
      "'data.frame':\t51359 obs. of  6 variables:\n",
      " $ X.1             : int  1 2 3 4 5 6 7 8 9 10 ...\n",
      " $ DOIs            : chr  \"10.21203/rs.3.rs-38496/v1\" \"10.3892/or.2019.7247\" \"10.1145/2983323.2983807\" \"10.21203/rs.3.rs-128597/v1\" ...\n",
      " $ publication_year: int  2020 2019 2016 2020 2021 2021 2016 2019 2018 2021 ...\n",
      " $ resource_type   : chr  \"posted-content\" \"journal-article\" \"proceedings-article\" \"posted-content\" ...\n",
      " $ is_oa           : logi  TRUE TRUE FALSE TRUE TRUE TRUE ...\n",
      " $ oa_status       : chr  \"green\" \"bronze\" \"closed\" \"green\" ...\n"
     ]
    }
   ],
   "source": [
    "str(DF)"
   ]
  },
  {
   "cell_type": "code",
   "execution_count": 4,
   "metadata": {},
   "outputs": [
    {
     "data": {
      "text/plain": [
       "\n",
       "2015 2016 2017 2018 2019 2020 2021 2022 \n",
       "5085 6066 7551 8366 8786 9498 6006    1 "
      ]
     },
     "metadata": {},
     "output_type": "display_data"
    },
    {
     "data": {
      "text/plain": [
       "\n",
       "               book        book-chapter             dataset     journal-article \n",
       "                 46                 463                 242               45018 \n",
       "      journal-issue           monograph               other         peer-review \n",
       "                  3                  16                   5                 210 \n",
       "     posted-content proceedings-article     reference-entry              report \n",
       "                766                4438                 134                  18 "
      ]
     },
     "metadata": {},
     "output_type": "display_data"
    }
   ],
   "source": [
    "table(DF$publication_year)\n",
    "table(DF$resource_type)"
   ]
  },
  {
   "cell_type": "markdown",
   "metadata": {},
   "source": [
    "### Step 4: cleaning the data"
   ]
  },
  {
   "cell_type": "code",
   "execution_count": 5,
   "metadata": {},
   "outputs": [
    {
     "data": {
      "text/plain": [
       "\n",
       "2015 2016 2017 2018 2019 2020 \n",
       "5085 6066 7551 8366 8786 9498 "
      ]
     },
     "metadata": {},
     "output_type": "display_data"
    }
   ],
   "source": [
    "DF <- filter(DF, publication_year <= 2020)\n",
    "\n",
    "table(DF$publication_year)"
   ]
  },
  {
   "cell_type": "code",
   "execution_count": 6,
   "metadata": {},
   "outputs": [
    {
     "data": {
      "text/plain": [
       "\n",
       "    journal-article proceedings-article \n",
       "              39630                4168 "
      ]
     },
     "metadata": {},
     "output_type": "display_data"
    }
   ],
   "source": [
    "DF <- filter(DF, resource_type == \"journal-article\" | resource_type == \"proceedings-article\")\n",
    "\n",
    "table(DF$resource_type)"
   ]
  },
  {
   "cell_type": "code",
   "execution_count": 7,
   "metadata": {},
   "outputs": [
    {
     "data": {
      "text/html": [
       "0"
      ],
      "text/latex": [
       "0"
      ],
      "text/markdown": [
       "0"
      ],
      "text/plain": [
       "[1] 0"
      ]
     },
     "metadata": {},
     "output_type": "display_data"
    }
   ],
   "source": [
    "sum(duplicated(DF$DOIs))"
   ]
  },
  {
   "cell_type": "markdown",
   "metadata": {},
   "source": [
    "### Step 5: analyse the results"
   ]
  },
  {
   "cell_type": "code",
   "execution_count": 9,
   "metadata": {},
   "outputs": [
    {
     "data": {
      "text/html": [
       "<table class=\"dataframe\">\n",
       "<caption>A data.frame: 2 × 3</caption>\n",
       "<thead>\n",
       "\t<tr><th scope=col>is_oa</th><th scope=col>n</th><th scope=col>percent</th></tr>\n",
       "\t<tr><th scope=col>&lt;lgl&gt;</th><th scope=col>&lt;int&gt;</th><th scope=col>&lt;dbl&gt;</th></tr>\n",
       "</thead>\n",
       "<tbody>\n",
       "\t<tr><td>FALSE</td><td>22526</td><td>51.43157</td></tr>\n",
       "\t<tr><td> TRUE</td><td>21272</td><td>48.56843</td></tr>\n",
       "</tbody>\n",
       "</table>\n"
      ],
      "text/latex": [
       "A data.frame: 2 × 3\n",
       "\\begin{tabular}{lll}\n",
       " is\\_oa & n & percent\\\\\n",
       " <lgl> & <int> & <dbl>\\\\\n",
       "\\hline\n",
       "\t FALSE & 22526 & 51.43157\\\\\n",
       "\t  TRUE & 21272 & 48.56843\\\\\n",
       "\\end{tabular}\n"
      ],
      "text/markdown": [
       "\n",
       "A data.frame: 2 × 3\n",
       "\n",
       "| is_oa &lt;lgl&gt; | n &lt;int&gt; | percent &lt;dbl&gt; |\n",
       "|---|---|---|\n",
       "| FALSE | 22526 | 51.43157 |\n",
       "|  TRUE | 21272 | 48.56843 |\n",
       "\n"
      ],
      "text/plain": [
       "  is_oa n     percent \n",
       "1 FALSE 22526 51.43157\n",
       "2  TRUE 21272 48.56843"
      ]
     },
     "metadata": {},
     "output_type": "display_data"
    }
   ],
   "source": [
    "DF %>%\n",
    "    count(is_oa) %>%\n",
    "    mutate(percent = n / sum(n) * 100)"
   ]
  },
  {
   "cell_type": "code",
   "execution_count": 10,
   "metadata": {},
   "outputs": [
    {
     "data": {
      "text/html": [
       "<table class=\"dataframe\">\n",
       "<caption>A grouped_df: 12 × 4</caption>\n",
       "<thead>\n",
       "\t<tr><th scope=col>publication_year</th><th scope=col>is_oa</th><th scope=col>n</th><th scope=col>percent</th></tr>\n",
       "\t<tr><th scope=col>&lt;int&gt;</th><th scope=col>&lt;lgl&gt;</th><th scope=col>&lt;int&gt;</th><th scope=col>&lt;dbl&gt;</th></tr>\n",
       "</thead>\n",
       "<tbody>\n",
       "\t<tr><td>2015</td><td>FALSE</td><td>2873</td><td>57.59824</td></tr>\n",
       "\t<tr><td>2015</td><td> TRUE</td><td>2115</td><td>42.40176</td></tr>\n",
       "\t<tr><td>2016</td><td>FALSE</td><td>3313</td><td>57.30842</td></tr>\n",
       "\t<tr><td>2016</td><td> TRUE</td><td>2468</td><td>42.69158</td></tr>\n",
       "\t<tr><td>2017</td><td>FALSE</td><td>4111</td><td>56.03108</td></tr>\n",
       "\t<tr><td>2017</td><td> TRUE</td><td>3226</td><td>43.96892</td></tr>\n",
       "\t<tr><td>2018</td><td>FALSE</td><td>4235</td><td>52.15517</td></tr>\n",
       "\t<tr><td>2018</td><td> TRUE</td><td>3885</td><td>47.84483</td></tr>\n",
       "\t<tr><td>2019</td><td>FALSE</td><td>4185</td><td>49.02765</td></tr>\n",
       "\t<tr><td>2019</td><td> TRUE</td><td>4351</td><td>50.97235</td></tr>\n",
       "\t<tr><td>2020</td><td>FALSE</td><td>3809</td><td>42.15361</td></tr>\n",
       "\t<tr><td>2020</td><td> TRUE</td><td>5227</td><td>57.84639</td></tr>\n",
       "</tbody>\n",
       "</table>\n"
      ],
      "text/latex": [
       "A grouped\\_df: 12 × 4\n",
       "\\begin{tabular}{llll}\n",
       " publication\\_year & is\\_oa & n & percent\\\\\n",
       " <int> & <lgl> & <int> & <dbl>\\\\\n",
       "\\hline\n",
       "\t 2015 & FALSE & 2873 & 57.59824\\\\\n",
       "\t 2015 &  TRUE & 2115 & 42.40176\\\\\n",
       "\t 2016 & FALSE & 3313 & 57.30842\\\\\n",
       "\t 2016 &  TRUE & 2468 & 42.69158\\\\\n",
       "\t 2017 & FALSE & 4111 & 56.03108\\\\\n",
       "\t 2017 &  TRUE & 3226 & 43.96892\\\\\n",
       "\t 2018 & FALSE & 4235 & 52.15517\\\\\n",
       "\t 2018 &  TRUE & 3885 & 47.84483\\\\\n",
       "\t 2019 & FALSE & 4185 & 49.02765\\\\\n",
       "\t 2019 &  TRUE & 4351 & 50.97235\\\\\n",
       "\t 2020 & FALSE & 3809 & 42.15361\\\\\n",
       "\t 2020 &  TRUE & 5227 & 57.84639\\\\\n",
       "\\end{tabular}\n"
      ],
      "text/markdown": [
       "\n",
       "A grouped_df: 12 × 4\n",
       "\n",
       "| publication_year &lt;int&gt; | is_oa &lt;lgl&gt; | n &lt;int&gt; | percent &lt;dbl&gt; |\n",
       "|---|---|---|---|\n",
       "| 2015 | FALSE | 2873 | 57.59824 |\n",
       "| 2015 |  TRUE | 2115 | 42.40176 |\n",
       "| 2016 | FALSE | 3313 | 57.30842 |\n",
       "| 2016 |  TRUE | 2468 | 42.69158 |\n",
       "| 2017 | FALSE | 4111 | 56.03108 |\n",
       "| 2017 |  TRUE | 3226 | 43.96892 |\n",
       "| 2018 | FALSE | 4235 | 52.15517 |\n",
       "| 2018 |  TRUE | 3885 | 47.84483 |\n",
       "| 2019 | FALSE | 4185 | 49.02765 |\n",
       "| 2019 |  TRUE | 4351 | 50.97235 |\n",
       "| 2020 | FALSE | 3809 | 42.15361 |\n",
       "| 2020 |  TRUE | 5227 | 57.84639 |\n",
       "\n"
      ],
      "text/plain": [
       "   publication_year is_oa n    percent \n",
       "1  2015             FALSE 2873 57.59824\n",
       "2  2015              TRUE 2115 42.40176\n",
       "3  2016             FALSE 3313 57.30842\n",
       "4  2016              TRUE 2468 42.69158\n",
       "5  2017             FALSE 4111 56.03108\n",
       "6  2017              TRUE 3226 43.96892\n",
       "7  2018             FALSE 4235 52.15517\n",
       "8  2018              TRUE 3885 47.84483\n",
       "9  2019             FALSE 4185 49.02765\n",
       "10 2019              TRUE 4351 50.97235\n",
       "11 2020             FALSE 3809 42.15361\n",
       "12 2020              TRUE 5227 57.84639"
      ]
     },
     "metadata": {},
     "output_type": "display_data"
    }
   ],
   "source": [
    "DF %>%\n",
    "    group_by(publication_year) %>%\n",
    "    count(is_oa) %>%\n",
    "    mutate(percent = n / sum(n) * 100)"
   ]
  },
  {
   "cell_type": "code",
   "execution_count": 11,
   "metadata": {},
   "outputs": [
    {
     "data": {
      "text/html": [
       "<table class=\"dataframe\">\n",
       "<caption>A matrix: 2 × 4 of type dbl</caption>\n",
       "<thead>\n",
       "\t<tr><th></th><th scope=col>Estimate</th><th scope=col>Std. Error</th><th scope=col>t value</th><th scope=col>Pr(&gt;|t|)</th></tr>\n",
       "</thead>\n",
       "<tbody>\n",
       "\t<tr><th scope=row>(Intercept)</th><td>-423955.7</td><td>206270.1339</td><td>-2.055342</td><td>0.1090272</td></tr>\n",
       "\t<tr><th scope=row>publication_year</th><td>    212.0</td><td>   102.2404</td><td> 2.073544</td><td>0.1068006</td></tr>\n",
       "</tbody>\n",
       "</table>\n"
      ],
      "text/latex": [
       "A matrix: 2 × 4 of type dbl\n",
       "\\begin{tabular}{r|llll}\n",
       "  & Estimate & Std. Error & t value & Pr(>\\textbar{}t\\textbar{})\\\\\n",
       "\\hline\n",
       "\t(Intercept) & -423955.7 & 206270.1339 & -2.055342 & 0.1090272\\\\\n",
       "\tpublication\\_year &     212.0 &    102.2404 &  2.073544 & 0.1068006\\\\\n",
       "\\end{tabular}\n"
      ],
      "text/markdown": [
       "\n",
       "A matrix: 2 × 4 of type dbl\n",
       "\n",
       "| <!--/--> | Estimate | Std. Error | t value | Pr(&gt;|t|) |\n",
       "|---|---|---|---|---|\n",
       "| (Intercept) | -423955.7 | 206270.1339 | -2.055342 | 0.1090272 |\n",
       "| publication_year |     212.0 |    102.2404 |  2.073544 | 0.1068006 |\n",
       "\n"
      ],
      "text/plain": [
       "                 Estimate  Std. Error  t value   Pr(>|t|) \n",
       "(Intercept)      -423955.7 206270.1339 -2.055342 0.1090272\n",
       "publication_year     212.0    102.2404  2.073544 0.1068006"
      ]
     },
     "metadata": {},
     "output_type": "display_data"
    },
    {
     "data": {
      "text/html": [
       "0.518048122471724"
      ],
      "text/latex": [
       "0.518048122471724"
      ],
      "text/markdown": [
       "0.518048122471724"
      ],
      "text/plain": [
       "[1] 0.5180481"
      ]
     },
     "metadata": {},
     "output_type": "display_data"
    }
   ],
   "source": [
    "lm_not_oa <- DF %>%\n",
    "    filter(is_oa == FALSE) %>%\n",
    "    group_by(publication_year) %>%\n",
    "    count(is_oa)\n",
    "\n",
    "lm_not_oa <- lm(data = lm_not_oa, formula = n ~ publication_year)\n",
    "\n",
    "summary(lm_not_oa)$coef\n",
    "\n",
    "summary(lm_not_oa)$r.squared"
   ]
  },
  {
   "cell_type": "code",
   "execution_count": 12,
   "metadata": {},
   "outputs": [
    {
     "data": {
      "text/html": [
       "<table class=\"dataframe\">\n",
       "<caption>A matrix: 2 × 4 of type dbl</caption>\n",
       "<thead>\n",
       "\t<tr><th></th><th scope=col>Estimate</th><th scope=col>Std. Error</th><th scope=col>t value</th><th scope=col>Pr(&gt;|t|)</th></tr>\n",
       "</thead>\n",
       "<tbody>\n",
       "\t<tr><th scope=row>(Intercept)</th><td>-1256988.7</td><td>63518.61533</td><td>-19.78930</td><td>3.846561e-05</td></tr>\n",
       "\t<tr><th scope=row>publication_year</th><td>     624.8</td><td>   31.48381</td><td> 19.84512</td><td>3.803823e-05</td></tr>\n",
       "</tbody>\n",
       "</table>\n"
      ],
      "text/latex": [
       "A matrix: 2 × 4 of type dbl\n",
       "\\begin{tabular}{r|llll}\n",
       "  & Estimate & Std. Error & t value & Pr(>\\textbar{}t\\textbar{})\\\\\n",
       "\\hline\n",
       "\t(Intercept) & -1256988.7 & 63518.61533 & -19.78930 & 3.846561e-05\\\\\n",
       "\tpublication\\_year &      624.8 &    31.48381 &  19.84512 & 3.803823e-05\\\\\n",
       "\\end{tabular}\n"
      ],
      "text/markdown": [
       "\n",
       "A matrix: 2 × 4 of type dbl\n",
       "\n",
       "| <!--/--> | Estimate | Std. Error | t value | Pr(&gt;|t|) |\n",
       "|---|---|---|---|---|\n",
       "| (Intercept) | -1256988.7 | 63518.61533 | -19.78930 | 3.846561e-05 |\n",
       "| publication_year |      624.8 |    31.48381 |  19.84512 | 3.803823e-05 |\n",
       "\n"
      ],
      "text/plain": [
       "                 Estimate   Std. Error  t value   Pr(>|t|)    \n",
       "(Intercept)      -1256988.7 63518.61533 -19.78930 3.846561e-05\n",
       "publication_year      624.8    31.48381  19.84512 3.803823e-05"
      ]
     },
     "metadata": {},
     "output_type": "display_data"
    },
    {
     "data": {
      "text/html": [
       "0.989945422001873"
      ],
      "text/latex": [
       "0.989945422001873"
      ],
      "text/markdown": [
       "0.989945422001873"
      ],
      "text/plain": [
       "[1] 0.9899454"
      ]
     },
     "metadata": {},
     "output_type": "display_data"
    }
   ],
   "source": [
    "lm_oa <- DF %>%\n",
    "    filter(is_oa == TRUE) %>%\n",
    "    group_by(publication_year) %>%\n",
    "    count(is_oa)\n",
    "\n",
    "lm_oa <- lm(data = lm_oa, formula = n ~ publication_year)\n",
    "\n",
    "summary(lm_oa)$coef\n",
    "\n",
    "summary(lm_oa)$r.squared"
   ]
  },
  {
   "cell_type": "markdown",
   "metadata": {},
   "source": [
    "### Step 6: visualise the results"
   ]
  },
  {
   "cell_type": "code",
   "execution_count": 13,
   "metadata": {},
   "outputs": [
    {
     "data": {
      "image/png": "[encoded data removed]",
      "text/plain": [
       "plot without title"
      ]
     },
     "metadata": {
      "image/png": {
       "height": 420,
       "width": 420
      }
     },
     "output_type": "display_data"
    }
   ],
   "source": [
    "DF %>%\n",
    "    count(is_oa) %>%\n",
    "    ggplot(aes(x = is_oa, y = n)) +\n",
    "    geom_col()"
   ]
  },
  {
   "cell_type": "code",
   "execution_count": 14,
   "metadata": {},
   "outputs": [
    {
     "data": {
      "image/png": "[encoded data removed]",
      "text/plain": [
       "plot without title"
      ]
     },
     "metadata": {
      "image/png": {
       "height": 420,
       "width": 420
      }
     },
     "output_type": "display_data"
    }
   ],
   "source": [
    "DF %>%\n",
    "    group_by(publication_year) %>%\n",
    "    count(is_oa) %>%\n",
    "    ggplot(aes(x = publication_year, y = n, fill = is_oa)) +\n",
    "    geom_col()"
   ]
  },
  {
   "cell_type": "code",
   "execution_count": 15,
   "metadata": {},
   "outputs": [
    {
     "data": {
      "image/png": "[encoded data removed]",
      "text/plain": [
       "plot without title"
      ]
     },
     "metadata": {
      "image/png": {
       "height": 420,
       "width": 420
      }
     },
     "output_type": "display_data"
    }
   ],
   "source": [
    "DF %>%\n",
    "    group_by(publication_year) %>%\n",
    "    count(is_oa) %>%\n",
    "    ggplot(aes(x = publication_year, y = n, fill = is_oa)) +\n",
    "    geom_col(position = \"dodge\")"
   ]
  },
  {
   "cell_type": "code",
   "execution_count": 16,
   "metadata": {},
   "outputs": [
    {
     "data": {
      "image/png": "[encoded data removed]",
      "text/plain": [
       "plot without title"
      ]
     },
     "metadata": {
      "image/png": {
       "height": 420,
       "width": 420
      }
     },
     "output_type": "display_data"
    }
   ],
   "source": [
    "DF %>%\n",
    "    group_by(publication_year) %>%\n",
    "    count(is_oa) %>%\n",
    "    ggplot(aes(x = publication_year, y = n, fill = is_oa)) +\n",
    "    geom_col(position = \"fill\")"
   ]
  },
  {
   "cell_type": "markdown",
   "metadata": {},
   "source": [
    "### Step 7: going beyond..."
   ]
  },
  {
   "cell_type": "code",
   "execution_count": 17,
   "metadata": {},
   "outputs": [
    {
     "data": {
      "image/png": "[encoded data removed]",
      "text/plain": [
       "plot without title"
      ]
     },
     "metadata": {
      "image/png": {
       "height": 420,
       "width": 420
      }
     },
     "output_type": "display_data"
    }
   ],
   "source": [
    "DF %>%\n",
    "    group_by(publication_year) %>%\n",
    "    count(oa_status) %>%\n",
    "    ggplot(aes(x = publication_year, y = n, color = oa_status)) +\n",
    "    geom_point(size = 3, alpha = 0.7) +\n",
    "    geom_line(size = 1.5, alpha = 0.7) +\n",
    "    scale_color_manual(values = c(\"#917013\", \"grey50\", \"#e3ac10\", \"#308a17\", \"#c4273f\")) +\n",
    "    scale_x_continuous(expand = c(0,0)) +\n",
    "    labs(x = \"publication year\", y = \"publication output\", color = \"OA status\") +\n",
    "    theme_linedraw() +\n",
    "    theme(panel.grid = element_blank())"
   ]
  },
  {
   "cell_type": "code",
   "execution_count": 18,
   "metadata": {},
   "outputs": [
    {
     "data": {
      "image/png": "[encoded data removed]",
      "text/plain": [
       "plot without title"
      ]
     },
     "metadata": {
      "image/png": {
       "height": 420,
       "width": 420
      }
     },
     "output_type": "display_data"
    }
   ],
   "source": [
    "DF %>%\n",
    "    group_by(publication_year) %>%\n",
    "    count(oa_status) %>%\n",
    "    ggplot(aes(x = publication_year, y = cumsum(n), color = oa_status)) +\n",
    "    geom_point(size = 3, alpha = 0.7) +\n",
    "    geom_line(size = 1.5, alpha = 0.7) +\n",
    "    scale_color_manual(values = c(\"#917013\", \"grey50\", \"#e3ac10\", \"#308a17\", \"#c4273f\")) +\n",
    "    scale_x_continuous(expand = c(0,0)) +\n",
    "    labs(x = \"publication year\", y = \"publication output\", color = \"OA status\") +\n",
    "    theme_linedraw() +\n",
    "    theme(panel.grid = element_blank())"
   ]
  },
  {
   "cell_type": "code",
   "execution_count": 19,
   "metadata": {},
   "outputs": [
    {
     "data": {
      "image/png": "[encoded data removed]",
      "text/plain": [
       "plot without title"
      ]
     },
     "metadata": {
      "image/png": {
       "height": 420,
       "width": 420
      }
     },
     "output_type": "display_data"
    }
   ],
   "source": [
    "DF %>%\n",
    "    group_by(publication_year) %>%\n",
    "    count(oa_status) %>%\n",
    "    mutate(oa_status = fct_relevel(oa_status, \"closed\", \"hybrid\", \"bronze\", \"gold\", \"green\")) %>%\n",
    "    ggplot(aes(x = publication_year, y = n, fill = oa_status)) +\n",
    "    geom_area(position = \"fill\", alpha = 0.8) +\n",
    "    geom_hline(yintercept = 0.6, linetype = \"dashed\", color = \"white\", size = 2) +\n",
    "    scale_fill_manual(values = c( \"grey50\", \"#c4273f\", \"#917013\", \"#e3ac10\", \"#308a17\")) +\n",
    "    scale_x_continuous(expand = c(0,0)) +\n",
    "    scale_y_continuous(expand = c(0,0), labels = scales::percent) +\n",
    "    labs(x = \"publication year\", y = \"publication output\", color = \"OA status\") +\n",
    "    theme_linedraw() +\n",
    "    theme(panel.grid = element_blank())"
   ]
  },
  {
   "cell_type": "markdown",
   "metadata": {},
   "source": [
    "### EXTRA: credit where credit is due"
   ]
  },
  {
   "cell_type": "code",
   "execution_count": 20,
   "metadata": {},
   "outputs": [
    {
     "data": {
      "text/plain": [
       "\n",
       "To cite R in publications use:\n",
       "\n",
       "  R Core Team (2021). R: A language and environment for statistical\n",
       "  computing. R Foundation for Statistical Computing, Vienna, Austria.\n",
       "  URL https://www.R-project.org/.\n",
       "\n",
       "A BibTeX entry for LaTeX users is\n",
       "\n",
       "  @Manual{,\n",
       "    title = {R: A Language and Environment for Statistical Computing},\n",
       "    author = {{R Core Team}},\n",
       "    organization = {R Foundation for Statistical Computing},\n",
       "    address = {Vienna, Austria},\n",
       "    year = {2021},\n",
       "    url = {https://www.R-project.org/},\n",
       "  }\n",
       "\n",
       "We have invested a lot of time and effort in creating R, please cite it\n",
       "when using it for data analysis. See also 'citation(\"pkgname\")' for\n",
       "citing R packages.\n"
      ]
     },
     "metadata": {},
     "output_type": "display_data"
    },
    {
     "data": {
      "text/plain": [
       "\n",
       "To cite jsonlite in publications use:\n",
       "\n",
       "  Jeroen Ooms (2014). The jsonlite Package: A Practical and Consistent\n",
       "  Mapping Between JSON Data and R Objects. arXiv:1403.2805 [stat.CO]\n",
       "  URL https://arxiv.org/abs/1403.2805.\n",
       "\n",
       "A BibTeX entry for LaTeX users is\n",
       "\n",
       "  @Article{,\n",
       "    title = {The jsonlite Package: A Practical and Consistent Mapping Between JSON Data and R Objects},\n",
       "    author = {Jeroen Ooms},\n",
       "    journal = {arXiv:1403.2805 [stat.CO]},\n",
       "    year = {2014},\n",
       "    url = {https://arxiv.org/abs/1403.2805},\n",
       "  }\n"
      ]
     },
     "metadata": {},
     "output_type": "display_data"
    },
    {
     "data": {
      "text/plain": [
       "\n",
       "To cite package 'roadoi' in publications use:\n",
       "\n",
       "  Najko Jahn (2021). roadoi: Find Free Versions of Scholarly\n",
       "  Publications via Unpaywall. R package version 0.7.1.\n",
       "  https://CRAN.R-project.org/package=roadoi\n",
       "\n",
       "A BibTeX entry for LaTeX users is\n",
       "\n",
       "  @Manual{,\n",
       "    title = {roadoi: Find Free Versions of Scholarly Publications via Unpaywall},\n",
       "    author = {Najko Jahn},\n",
       "    year = {2021},\n",
       "    note = {R package version 0.7.1},\n",
       "    url = {https://CRAN.R-project.org/package=roadoi},\n",
       "  }\n"
      ]
     },
     "metadata": {},
     "output_type": "display_data"
    },
    {
     "data": {
      "text/plain": [
       "\n",
       "To cite package 'rcrossref' in publications use:\n",
       "\n",
       "  Scott Chamberlain, Hao Zhu, Najko Jahn, Carl Boettiger and Karthik\n",
       "  Ram (2020). rcrossref: Client for Various 'CrossRef' 'APIs'. R\n",
       "  package version 1.1.0. https://CRAN.R-project.org/package=rcrossref\n",
       "\n",
       "A BibTeX entry for LaTeX users is\n",
       "\n",
       "  @Manual{,\n",
       "    title = {rcrossref: Client for Various 'CrossRef' 'APIs'},\n",
       "    author = {Scott Chamberlain and Hao Zhu and Najko Jahn and Carl Boettiger and Karthik Ram},\n",
       "    year = {2020},\n",
       "    note = {R package version 1.1.0},\n",
       "    url = {https://CRAN.R-project.org/package=rcrossref},\n",
       "  }\n"
      ]
     },
     "metadata": {},
     "output_type": "display_data"
    },
    {
     "data": {
      "text/plain": [
       "\n",
       "To cite package 'dplyr' in publications use:\n",
       "\n",
       "  Hadley Wickham, Romain François, Lionel Henry and Kirill Müller\n",
       "  (2021). dplyr: A Grammar of Data Manipulation. R package version\n",
       "  1.0.6. https://CRAN.R-project.org/package=dplyr\n",
       "\n",
       "A BibTeX entry for LaTeX users is\n",
       "\n",
       "  @Manual{,\n",
       "    title = {dplyr: A Grammar of Data Manipulation},\n",
       "    author = {Hadley Wickham and Romain François and Lionel Henry and Kirill Müller},\n",
       "    year = {2021},\n",
       "    note = {R package version 1.0.6},\n",
       "    url = {https://CRAN.R-project.org/package=dplyr},\n",
       "  }\n"
      ]
     },
     "metadata": {},
     "output_type": "display_data"
    },
    {
     "data": {
      "text/plain": [
       "\n",
       "To cite ggplot2 in publications, please use:\n",
       "\n",
       "  H. Wickham. ggplot2: Elegant Graphics for Data Analysis.\n",
       "  Springer-Verlag New York, 2016.\n",
       "\n",
       "A BibTeX entry for LaTeX users is\n",
       "\n",
       "  @Book{,\n",
       "    author = {Hadley Wickham},\n",
       "    title = {ggplot2: Elegant Graphics for Data Analysis},\n",
       "    publisher = {Springer-Verlag New York},\n",
       "    year = {2016},\n",
       "    isbn = {978-3-319-24277-4},\n",
       "    url = {https://ggplot2.tidyverse.org},\n",
       "  }\n"
      ]
     },
     "metadata": {},
     "output_type": "display_data"
    },
    {
     "data": {
      "text/plain": [
       "\n",
       "To cite package 'forcats' in publications use:\n",
       "\n",
       "  Hadley Wickham (2021). forcats: Tools for Working with Categorical\n",
       "  Variables (Factors). R package version 0.5.1.\n",
       "  https://CRAN.R-project.org/package=forcats\n",
       "\n",
       "A BibTeX entry for LaTeX users is\n",
       "\n",
       "  @Manual{,\n",
       "    title = {forcats: Tools for Working with Categorical Variables (Factors)},\n",
       "    author = {Hadley Wickham},\n",
       "    year = {2021},\n",
       "    note = {R package version 0.5.1},\n",
       "    url = {https://CRAN.R-project.org/package=forcats},\n",
       "  }\n"
      ]
     },
     "metadata": {},
     "output_type": "display_data"
    }
   ],
   "source": [
    "citation(\"base\")\n",
    "citation(\"jsonlite\")\n",
    "citation(\"roadoi\")\n",
    "citation(\"rcrossref\")\n",
    "citation(\"dplyr\")\n",
    "citation(\"ggplot2\")\n",
    "citation(\"forcats\")"
   ]
  },
  {
   "cell_type": "code",
   "execution_count": null,
   "metadata": {},
   "outputs": [],
   "source": []
  }
 ],
 "metadata": {
  "kernelspec": {
   "display_name": "R",
   "language": "R",
   "name": "ir"
  },
  "language_info": {
   "codemirror_mode": "r",
   "file_extension": ".r",
   "mimetype": "text/x-r-source",
   "name": "R",
   "pygments_lexer": "r",
   "version": "4.0.4"
  }
 },
 "nbformat": 4,
 "nbformat_minor": 4
}
