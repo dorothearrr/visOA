{
 "cells": [
  {
   "cell_type": "markdown",
   "metadata": {},
   "source": [
    "## Querying Unpaywall\n",
    "\n",
    "\n",
    "### Step 1: load packages"
   ]
  },
  {
   "cell_type": "code",
   "execution_count": 8,
   "metadata": {},
   "outputs": [],
   "source": [
    "#install.packages(\"jsonlite\")\n",
    "library(jsonlite)"
   ]
  },
  {
   "cell_type": "markdown",
   "metadata": {},
   "source": [
    "### Step 2: loading crossref metadata"
   ]
  },
  {
   "cell_type": "code",
   "execution_count": 9,
   "metadata": {},
   "outputs": [],
   "source": [
    "DF_crossref <- read.csv(\"../data/crossref_metadata.csv\", row.names = \"X\")"
   ]
  },
  {
   "cell_type": "markdown",
   "metadata": {},
   "source": [
    "### Step 3: build query URLs"
   ]
  },
  {
   "cell_type": "code",
   "execution_count": 10,
   "metadata": {},
   "outputs": [],
   "source": [
    "URLs <- paste0(\"https://api.unpaywall.org/v2/\", DF_crossref$DOIs, \"?email=jdoe@example.org\")"
   ]
  },
  {
   "cell_type": "markdown",
   "metadata": {},
   "source": [
    "### Step 4: exploring the results"
   ]
  },
  {
   "cell_type": "code",
   "execution_count": 11,
   "metadata": {},
   "outputs": [
    {
     "data": {
      "text/html": [
       "TRUE"
      ],
      "text/latex": [
       "TRUE"
      ],
      "text/markdown": [
       "TRUE"
      ],
      "text/plain": [
       "[1] TRUE"
      ]
     },
     "metadata": {},
     "output_type": "display_data"
    },
    {
     "data": {
      "text/html": [
       "'green'"
      ],
      "text/latex": [
       "'green'"
      ],
      "text/markdown": [
       "'green'"
      ],
      "text/plain": [
       "[1] \"green\""
      ]
     },
     "metadata": {},
     "output_type": "display_data"
    }
   ],
   "source": [
    "results <- fromJSON(URLs[1])\n",
    "\n",
    "results$is_oa\n",
    "\n",
    "results$oa_status"
   ]
  },
  {
   "cell_type": "markdown",
   "metadata": {},
   "source": [
    "### Step 5: retrieving Open Access information from Unpaywall"
   ]
  },
  {
   "cell_type": "code",
   "execution_count": 12,
   "metadata": {},
   "outputs": [],
   "source": [
    "# DO NOT RUN THIS!\n",
    "\n",
    "# initiate empty data frame for storing the results\n",
    "#DF_Unpaywall <- data.frame(c(DOIs = character(),\n",
    "#                             is_oa = logical(),\n",
    "#                             oa_status = character()))\n",
    "# iterate through the items in DF_crossref and extract is_oa and oa_status\n",
    "#for (i in 1:nrow(DF_crossref)) {\n",
    "#  results <- fromJSON(URLs[i])\n",
    "#  DF_Unpaywall[i,1] <- DF_crossref[i,1]\n",
    "#  DF_Unpaywall[i,2] <- results$is_oa\n",
    "#  DF_Unpaywall[i,3] <- results$oa_status\n",
    "#}"
   ]
  },
  {
   "cell_type": "markdown",
   "metadata": {},
   "source": [
    "### EXERCISE: try the package roadoi"
   ]
  },
  {
   "cell_type": "code",
   "execution_count": 13,
   "metadata": {},
   "outputs": [],
   "source": [
    "#install.packages(\"roadoi\")\n",
    "library(roadoi)"
   ]
  },
  {
   "cell_type": "markdown",
   "metadata": {},
   "source": [
    "**Have a look at the columns *is_oa* and *journal_is_oa*.**\n",
    "* Can you imagine what the two variables represen?\n",
    "* Why do the values diverge in some cases, but not in others?"
   ]
  },
  {
   "cell_type": "code",
   "execution_count": 17,
   "metadata": {},
   "outputs": [
    {
     "data": {
      "text/html": [
       "<style>\n",
       ".list-inline {list-style: none; margin:0; padding: 0}\n",
       ".list-inline>li {display: inline-block}\n",
       ".list-inline>li:not(:last-child)::after {content: \"\\00b7\"; padding: 0 .5ex}\n",
       "</style>\n",
       "<ol class=list-inline><li>'doi'</li><li>'best_oa_location'</li><li>'oa_locations'</li><li>'oa_locations_embargoed'</li><li>'data_standard'</li><li>'is_oa'</li><li>'is_paratext'</li><li>'genre'</li><li>'oa_status'</li><li>'has_repository_copy'</li><li>'journal_is_oa'</li><li>'journal_is_in_doaj'</li><li>'journal_issns'</li><li>'journal_issn_l'</li><li>'journal_name'</li><li>'publisher'</li><li>'published_date'</li><li>'year'</li><li>'title'</li><li>'updated_resource'</li><li>'authors'</li></ol>\n"
      ],
      "text/latex": [
       "\\begin{enumerate*}\n",
       "\\item 'doi'\n",
       "\\item 'best\\_oa\\_location'\n",
       "\\item 'oa\\_locations'\n",
       "\\item 'oa\\_locations\\_embargoed'\n",
       "\\item 'data\\_standard'\n",
       "\\item 'is\\_oa'\n",
       "\\item 'is\\_paratext'\n",
       "\\item 'genre'\n",
       "\\item 'oa\\_status'\n",
       "\\item 'has\\_repository\\_copy'\n",
       "\\item 'journal\\_is\\_oa'\n",
       "\\item 'journal\\_is\\_in\\_doaj'\n",
       "\\item 'journal\\_issns'\n",
       "\\item 'journal\\_issn\\_l'\n",
       "\\item 'journal\\_name'\n",
       "\\item 'publisher'\n",
       "\\item 'published\\_date'\n",
       "\\item 'year'\n",
       "\\item 'title'\n",
       "\\item 'updated\\_resource'\n",
       "\\item 'authors'\n",
       "\\end{enumerate*}\n"
      ],
      "text/markdown": [
       "1. 'doi'\n",
       "2. 'best_oa_location'\n",
       "3. 'oa_locations'\n",
       "4. 'oa_locations_embargoed'\n",
       "5. 'data_standard'\n",
       "6. 'is_oa'\n",
       "7. 'is_paratext'\n",
       "8. 'genre'\n",
       "9. 'oa_status'\n",
       "10. 'has_repository_copy'\n",
       "11. 'journal_is_oa'\n",
       "12. 'journal_is_in_doaj'\n",
       "13. 'journal_issns'\n",
       "14. 'journal_issn_l'\n",
       "15. 'journal_name'\n",
       "16. 'publisher'\n",
       "17. 'published_date'\n",
       "18. 'year'\n",
       "19. 'title'\n",
       "20. 'updated_resource'\n",
       "21. 'authors'\n",
       "\n",
       "\n"
      ],
      "text/plain": [
       " [1] \"doi\"                    \"best_oa_location\"       \"oa_locations\"          \n",
       " [4] \"oa_locations_embargoed\" \"data_standard\"          \"is_oa\"                 \n",
       " [7] \"is_paratext\"            \"genre\"                  \"oa_status\"             \n",
       "[10] \"has_repository_copy\"    \"journal_is_oa\"          \"journal_is_in_doaj\"    \n",
       "[13] \"journal_issns\"          \"journal_issn_l\"         \"journal_name\"          \n",
       "[16] \"publisher\"              \"published_date\"         \"year\"                  \n",
       "[19] \"title\"                  \"updated_resource\"       \"authors\"               "
      ]
     },
     "metadata": {},
     "output_type": "display_data"
    },
    {
     "data": {
      "text/html": [
       "<style>\n",
       ".list-inline {list-style: none; margin:0; padding: 0}\n",
       ".list-inline>li {display: inline-block}\n",
       ".list-inline>li:not(:last-child)::after {content: \"\\00b7\"; padding: 0 .5ex}\n",
       "</style>\n",
       "<ol class=list-inline><li>TRUE</li><li>TRUE</li><li>FALSE</li><li>TRUE</li><li>TRUE</li><li>TRUE</li><li>FALSE</li><li>FALSE</li><li>TRUE</li><li>TRUE</li></ol>\n"
      ],
      "text/latex": [
       "\\begin{enumerate*}\n",
       "\\item TRUE\n",
       "\\item TRUE\n",
       "\\item FALSE\n",
       "\\item TRUE\n",
       "\\item TRUE\n",
       "\\item TRUE\n",
       "\\item FALSE\n",
       "\\item FALSE\n",
       "\\item TRUE\n",
       "\\item TRUE\n",
       "\\end{enumerate*}\n"
      ],
      "text/markdown": [
       "1. TRUE\n",
       "2. TRUE\n",
       "3. FALSE\n",
       "4. TRUE\n",
       "5. TRUE\n",
       "6. TRUE\n",
       "7. FALSE\n",
       "8. FALSE\n",
       "9. TRUE\n",
       "10. TRUE\n",
       "\n",
       "\n"
      ],
      "text/plain": [
       " [1]  TRUE  TRUE FALSE  TRUE  TRUE  TRUE FALSE FALSE  TRUE  TRUE"
      ]
     },
     "metadata": {},
     "output_type": "display_data"
    },
    {
     "data": {
      "text/html": [
       "<style>\n",
       ".list-inline {list-style: none; margin:0; padding: 0}\n",
       ".list-inline>li {display: inline-block}\n",
       ".list-inline>li:not(:last-child)::after {content: \"\\00b7\"; padding: 0 .5ex}\n",
       "</style>\n",
       "<ol class=list-inline><li>FALSE</li><li>FALSE</li><li>FALSE</li><li>FALSE</li><li>FALSE</li><li>FALSE</li><li>FALSE</li><li>FALSE</li><li>TRUE</li><li>FALSE</li></ol>\n"
      ],
      "text/latex": [
       "\\begin{enumerate*}\n",
       "\\item FALSE\n",
       "\\item FALSE\n",
       "\\item FALSE\n",
       "\\item FALSE\n",
       "\\item FALSE\n",
       "\\item FALSE\n",
       "\\item FALSE\n",
       "\\item FALSE\n",
       "\\item TRUE\n",
       "\\item FALSE\n",
       "\\end{enumerate*}\n"
      ],
      "text/markdown": [
       "1. FALSE\n",
       "2. FALSE\n",
       "3. FALSE\n",
       "4. FALSE\n",
       "5. FALSE\n",
       "6. FALSE\n",
       "7. FALSE\n",
       "8. FALSE\n",
       "9. TRUE\n",
       "10. FALSE\n",
       "\n",
       "\n"
      ],
      "text/plain": [
       " [1] FALSE FALSE FALSE FALSE FALSE FALSE FALSE FALSE  TRUE FALSE"
      ]
     },
     "metadata": {},
     "output_type": "display_data"
    }
   ],
   "source": [
    "results <- roadoi::oadoi_fetch(dois = DF_crossref[1:10,1], email = \"jdoe@example.org\")\n",
    "\n",
    "names(results)\n",
    "\n",
    "results$is_oa\n",
    "\n",
    "results$journal_is_oa"
   ]
  }
 ],
 "metadata": {
  "kernelspec": {
   "display_name": "R",
   "language": "R",
   "name": "ir"
  },
  "language_info": {
   "codemirror_mode": "r",
   "file_extension": ".r",
   "mimetype": "text/x-r-source",
   "name": "R",
   "pygments_lexer": "r",
   "version": "4.0.4"
  }
 },
 "nbformat": 4,
 "nbformat_minor": 4
}
