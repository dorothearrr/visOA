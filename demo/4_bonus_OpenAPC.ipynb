{
 "cells": [
  {
   "cell_type": "markdown",
   "metadata": {},
   "source": [
    "## Bonus: OpenAPC\n",
    "\n",
    "\n",
    "### Step 1: load packages"
   ]
  },
  {
   "cell_type": "code",
   "execution_count": 2,
   "metadata": {},
   "outputs": [
    {
     "name": "stderr",
     "output_type": "stream",
     "text": [
      "Warning message:\n",
      "\"package 'readr' was built under R version 4.0.5\"\n",
      "Warning message:\n",
      "\"package 'dplyr' was built under R version 4.1.0\"\n",
      "\n",
      "Attaching package: 'dplyr'\n",
      "\n",
      "\n",
      "The following objects are masked from 'package:stats':\n",
      "\n",
      "    filter, lag\n",
      "\n",
      "\n",
      "The following objects are masked from 'package:base':\n",
      "\n",
      "    intersect, setdiff, setequal, union\n",
      "\n",
      "\n",
      "Warning message:\n",
      "\"package 'ggplot2' was built under R version 4.1.0\"\n"
     ]
    }
   ],
   "source": [
    "#install.packages(\"readr\")\n",
    "#install.packages(\"dplyr\")\n",
    "#install.packages(\"ggplot2\")\n",
    "library(readr)\n",
    "library(dplyr)\n",
    "library(ggplot2)"
   ]
  },
  {
   "cell_type": "markdown",
   "metadata": {},
   "source": [
    "### Step 2: loading the data from GitHub"
   ]
  },
  {
   "cell_type": "code",
   "execution_count": 3,
   "metadata": {},
   "outputs": [
    {
     "name": "stderr",
     "output_type": "stream",
     "text": [
      "\u001b[1m\u001b[1mRows: \u001b[1m\u001b[22m\u001b[34m\u001b[34m137444\u001b[34m\u001b[39m \u001b[1m\u001b[1mColumns: \u001b[1m\u001b[22m\u001b[34m\u001b[34m18\u001b[34m\u001b[39m\n",
      "\n",
      "\u001b[36m--\u001b[39m \u001b[1m\u001b[1mColumn specification\u001b[1m\u001b[22m \u001b[36m--------------------------------------------------------\u001b[39m\n",
      "\u001b[1mDelimiter:\u001b[22m \",\"\n",
      "\u001b[31mchr\u001b[39m (12): institution, doi, publisher, journal_full_title, issn, issn_print,...\n",
      "\u001b[32mdbl\u001b[39m  (3): period, euro, pmid\n",
      "\u001b[33mlgl\u001b[39m  (3): is_hybrid, indexed_in_crossref, doaj\n",
      "\n",
      "\n",
      "\u001b[36mi\u001b[39m Use \u001b[30m\u001b[47m\u001b[30m\u001b[47m`spec()`\u001b[47m\u001b[30m\u001b[49m\u001b[39m to retrieve the full column specification for this data.\n",
      "\u001b[36mi\u001b[39m Specify the column types or set \u001b[30m\u001b[47m\u001b[30m\u001b[47m`show_col_types = FALSE`\u001b[47m\u001b[30m\u001b[49m\u001b[39m to quiet this message.\n",
      "\n"
     ]
    }
   ],
   "source": [
    "DF <- read_csv(\"https://raw.githubusercontent.com/OpenAPC/openapc-de/master/data/apc_de.csv\")"
   ]
  },
  {
   "cell_type": "code",
   "execution_count": 4,
   "metadata": {},
   "outputs": [
    {
     "name": "stdout",
     "output_type": "stream",
     "text": [
      "spec_tbl_df [137,444 x 18] (S3: spec_tbl_df/tbl_df/tbl/data.frame)\n",
      " $ institution        : chr [1:137444] \"Bamberg U\" \"Bamberg U\" \"Bamberg U\" \"Bamberg U\" ...\n",
      " $ period             : num [1:137444] 2013 2013 2013 2013 2013 ...\n",
      " $ euro               : num [1:137444] 1372 960 960 960 182 ...\n",
      " $ doi                : chr [1:137444] \"10.2147/jpr.s45097\" \"10.3389/fpsyg.2013.00318\" \"10.3389/fpsyg.2013.00406\" \"10.3389/fpsyg.2013.00453\" ...\n",
      " $ is_hybrid          : logi [1:137444] FALSE FALSE FALSE FALSE FALSE FALSE ...\n",
      " $ publisher          : chr [1:137444] \"Dove Medical Press Ltd.\" \"Frontiers Media SA\" \"Frontiers Media SA\" \"Frontiers Media SA\" ...\n",
      " $ journal_full_title : chr [1:137444] \"Journal of Pain Research\" \"Frontiers in Psychology\" \"Frontiers in Psychology\" \"Frontiers in Psychology\" ...\n",
      " $ issn               : chr [1:137444] \"1178-7090\" \"1664-1078\" \"1664-1078\" \"1664-1078\" ...\n",
      " $ issn_print         : chr [1:137444] NA NA NA NA ...\n",
      " $ issn_electronic    : chr [1:137444] \"1178-7090\" \"1664-1078\" \"1664-1078\" \"1664-1078\" ...\n",
      " $ issn_l             : chr [1:137444] \"1178-7090\" \"1664-1078\" \"1664-1078\" \"1664-1078\" ...\n",
      " $ license_ref        : chr [1:137444] \"http://creativecommons.org/licenses/by-nc/3.0/\" NA NA NA ...\n",
      " $ indexed_in_crossref: logi [1:137444] TRUE TRUE TRUE TRUE TRUE TRUE ...\n",
      " $ pmid               : num [1:137444] 23788838 23760550 23847576 23882250 NA ...\n",
      " $ pmcid              : chr [1:137444] \"PMC3684223\" \"PMC3669756\" \"PMC3705173\" \"PMC3714455\" ...\n",
      " $ ut                 : chr [1:137444] \"ut:000209528900045\" \"ut:000331039300001\" \"ut:000331105300001\" \"ut:000331171000001\" ...\n",
      " $ url                : chr [1:137444] NA NA NA NA ...\n",
      " $ doaj               : logi [1:137444] TRUE TRUE TRUE TRUE FALSE TRUE ...\n",
      " - attr(*, \"spec\")=\n",
      "  .. cols(\n",
      "  ..   institution = \u001b[31mcol_character()\u001b[39m,\n",
      "  ..   period = \u001b[32mcol_double()\u001b[39m,\n",
      "  ..   euro = \u001b[32mcol_double()\u001b[39m,\n",
      "  ..   doi = \u001b[31mcol_character()\u001b[39m,\n",
      "  ..   is_hybrid = \u001b[33mcol_logical()\u001b[39m,\n",
      "  ..   publisher = \u001b[31mcol_character()\u001b[39m,\n",
      "  ..   journal_full_title = \u001b[31mcol_character()\u001b[39m,\n",
      "  ..   issn = \u001b[31mcol_character()\u001b[39m,\n",
      "  ..   issn_print = \u001b[31mcol_character()\u001b[39m,\n",
      "  ..   issn_electronic = \u001b[31mcol_character()\u001b[39m,\n",
      "  ..   issn_l = \u001b[31mcol_character()\u001b[39m,\n",
      "  ..   license_ref = \u001b[31mcol_character()\u001b[39m,\n",
      "  ..   indexed_in_crossref = \u001b[33mcol_logical()\u001b[39m,\n",
      "  ..   pmid = \u001b[32mcol_double()\u001b[39m,\n",
      "  ..   pmcid = \u001b[31mcol_character()\u001b[39m,\n",
      "  ..   ut = \u001b[31mcol_character()\u001b[39m,\n",
      "  ..   url = \u001b[31mcol_character()\u001b[39m,\n",
      "  ..   doaj = \u001b[33mcol_logical()\u001b[39m\n",
      "  .. )\n",
      " - attr(*, \"problems\")=<externalptr> \n"
     ]
    }
   ],
   "source": [
    "str(DF)"
   ]
  },
  {
   "cell_type": "code",
   "execution_count": 5,
   "metadata": {},
   "outputs": [],
   "source": [
    "HU_data <- filter(DF, institution == \"HU Berlin\")"
   ]
  },
  {
   "cell_type": "markdown",
   "metadata": {},
   "source": [
    "### Step 3: inspecting the data"
   ]
  },
  {
   "cell_type": "code",
   "execution_count": 6,
   "metadata": {},
   "outputs": [
    {
     "data": {
      "text/plain": [
       "\n",
       "2018 2019 2020 \n",
       "  46   94  124 "
      ]
     },
     "metadata": {},
     "output_type": "display_data"
    },
    {
     "data": {
      "text/plain": [
       "\n",
       "                            American Physical Society (APS) \n",
       "                                                          2 \n",
       "                          American Society for Microbiology \n",
       "                                                          1 \n",
       "Association for Research in Vision and Ophthalmology (ARVO) \n",
       "                                                          2 \n",
       "                                              Beltz Juventa \n",
       "                                                          1 \n",
       "                                            Copernicus GmbH \n",
       "                                                          3 \n",
       "                           eLife Sciences Publications, Ltd \n",
       "                                                          1 \n",
       "                                                Elsevier BV \n",
       "                                                          7 \n",
       "                                         Frontiers Media SA \n",
       "                                                         58 \n",
       "                             Hindawi Publishing Corporation \n",
       "                                                          1 \n",
       "                                         Informa UK Limited \n",
       "                                                        102 \n",
       "                                             IOP Publishing \n",
       "                                                          2 \n",
       "                                     JMIR Publications Inc. \n",
       "                                                          1 \n",
       "                                                    MDPI AG \n",
       "                                                         30 \n",
       "                Österreichische Akademie der Wissenschaften \n",
       "                                                          1 \n",
       "                              Oxford University Press (OUP) \n",
       "                                                          2 \n",
       "                                                      PeerJ \n",
       "                                                          1 \n",
       "                           Public Library of Science (PLoS) \n",
       "                                                          5 \n",
       "                                  Resilience Alliance, Inc. \n",
       "                                                          2 \n",
       "                                          SAGE Publications \n",
       "                                                          2 \n",
       "                                              Schweizerbart \n",
       "                                                          1 \n",
       "                                            Springer Nature \n",
       "                                                         17 \n",
       "                                            sub\\\\urban e.V. \n",
       "                                                          6 \n",
       "                                       Ubiquity Press, Ltd. \n",
       "                                                          2 \n",
       "                                       University of Zurich \n",
       "                                                          1 \n",
       "                                                    Waxmann \n",
       "                                                          1 \n",
       "                                            Wiley-Blackwell \n",
       "                                                         12 "
      ]
     },
     "metadata": {},
     "output_type": "display_data"
    }
   ],
   "source": [
    "table(HU_data$period)\n",
    "table(HU_data$publisher)"
   ]
  },
  {
   "cell_type": "markdown",
   "metadata": {},
   "source": [
    "### Step 4: analyse the results"
   ]
  },
  {
   "cell_type": "code",
   "execution_count": 7,
   "metadata": {},
   "outputs": [
    {
     "data": {
      "text/plain": [
       "   Min. 1st Qu.  Median    Mean 3rd Qu.    Max. \n",
       "  265.2   712.5  1148.6  1280.7  1882.9  3962.7 "
      ]
     },
     "metadata": {},
     "output_type": "display_data"
    }
   ],
   "source": [
    "summary(HU_data$euro)"
   ]
  },
  {
   "cell_type": "code",
   "execution_count": 8,
   "metadata": {},
   "outputs": [
    {
     "data": {
      "image/png": "[encoded data removed]",
      "text/plain": [
       "plot without title"
      ]
     },
     "metadata": {
      "image/png": {
       "height": 420,
       "width": 420
      }
     },
     "output_type": "display_data"
    }
   ],
   "source": [
    "ggplot(HU_data, aes(x = euro)) +\n",
    "    geom_histogram(bins = 50)"
   ]
  },
  {
   "cell_type": "code",
   "execution_count": 9,
   "metadata": {},
   "outputs": [
    {
     "data": {
      "text/html": [
       "<table class=\"dataframe\">\n",
       "<caption>A tibble: 3 × 4</caption>\n",
       "<thead>\n",
       "\t<tr><th scope=col>period</th><th scope=col>mean</th><th scope=col>min</th><th scope=col>max</th></tr>\n",
       "\t<tr><th scope=col>&lt;dbl&gt;</th><th scope=col>&lt;dbl&gt;</th><th scope=col>&lt;dbl&gt;</th><th scope=col>&lt;dbl&gt;</th></tr>\n",
       "</thead>\n",
       "<tbody>\n",
       "\t<tr><td>2018</td><td>1182.004</td><td>400.00</td><td>2060.65</td></tr>\n",
       "\t<tr><td>2019</td><td>1254.582</td><td>265.24</td><td>3272.50</td></tr>\n",
       "\t<tr><td>2020</td><td>1337.011</td><td>400.00</td><td>3962.70</td></tr>\n",
       "</tbody>\n",
       "</table>\n"
      ],
      "text/latex": [
       "A tibble: 3 × 4\n",
       "\\begin{tabular}{llll}\n",
       " period & mean & min & max\\\\\n",
       " <dbl> & <dbl> & <dbl> & <dbl>\\\\\n",
       "\\hline\n",
       "\t 2018 & 1182.004 & 400.00 & 2060.65\\\\\n",
       "\t 2019 & 1254.582 & 265.24 & 3272.50\\\\\n",
       "\t 2020 & 1337.011 & 400.00 & 3962.70\\\\\n",
       "\\end{tabular}\n"
      ],
      "text/markdown": [
       "\n",
       "A tibble: 3 × 4\n",
       "\n",
       "| period &lt;dbl&gt; | mean &lt;dbl&gt; | min &lt;dbl&gt; | max &lt;dbl&gt; |\n",
       "|---|---|---|---|\n",
       "| 2018 | 1182.004 | 400.00 | 2060.65 |\n",
       "| 2019 | 1254.582 | 265.24 | 3272.50 |\n",
       "| 2020 | 1337.011 | 400.00 | 3962.70 |\n",
       "\n"
      ],
      "text/plain": [
       "  period mean     min    max    \n",
       "1 2018   1182.004 400.00 2060.65\n",
       "2 2019   1254.582 265.24 3272.50\n",
       "3 2020   1337.011 400.00 3962.70"
      ]
     },
     "metadata": {},
     "output_type": "display_data"
    }
   ],
   "source": [
    "HU_data %>%\n",
    "    group_by(period) %>%\n",
    "    summarise(mean = mean(euro),\n",
    "             min = min(euro),\n",
    "             max = max(euro))"
   ]
  },
  {
   "cell_type": "code",
   "execution_count": 12,
   "metadata": {},
   "outputs": [
    {
     "data": {
      "image/png": "[encoded data removed]",
      "text/plain": [
       "plot without title"
      ]
     },
     "metadata": {
      "image/png": {
       "height": 420,
       "width": 420
      }
     },
     "output_type": "display_data"
    }
   ],
   "source": [
    "ggplot(HU_data, aes(x = period, y = euro, group = period)) +\n",
    "    geom_boxplot() +\n",
    "    geom_point(position = \"jitter\")"
   ]
  }
 ],
 "metadata": {
  "kernelspec": {
   "display_name": "R",
   "language": "R",
   "name": "ir"
  },
  "language_info": {
   "codemirror_mode": "r",
   "file_extension": ".r",
   "mimetype": "text/x-r-source",
   "name": "R",
   "pygments_lexer": "r",
   "version": "4.0.4"
  }
 },
 "nbformat": 4,
 "nbformat_minor": 4
}
